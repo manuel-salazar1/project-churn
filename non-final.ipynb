{
 "cells": [
  {
   "cell_type": "markdown",
   "id": "6e05d5ef-838c-4c8b-a88c-00f685080251",
   "metadata": {},
   "source": [
    "# Operation churn"
   ]
  },
  {
   "cell_type": "markdown",
   "id": "6f2ae2bb-fd1c-4340-8e40-88fbb3070b22",
   "metadata": {},
   "source": [
    "### Imports"
   ]
  },
  {
   "cell_type": "code",
   "execution_count": 4,
   "id": "e0602da0-2e94-4202-895c-79d6f044f002",
   "metadata": {},
   "outputs": [],
   "source": [
    "import pandas as pd\n",
    "import numpy as np\n",
    "\n",
    "\n",
    "from sklearn.model_selection import train_test_split\n",
    "from sklearn.tree import DecisionTreeClassifier, plot_tree\n",
    "from sklearn.ensemble import RandomForestClassifier\n",
    "from sklearn.neighbors import KNeighborsClassifier\n",
    "from sklearn.linear_model import LogisticRegression\n",
    "from sklearn.metrics import classification_report, confusion_matrix, plot_confusion_matrix\n",
    "\n",
    "import matplotlib.pyplot as plt\n",
    "import seaborn as sns\n",
    "import scipy.stats as stats\n",
    "\n",
    "import acquire\n",
    "import prepare"
   ]
  },
  {
   "cell_type": "code",
   "execution_count": null,
   "id": "053fa311-27fa-4f91-8b05-e47ecc4de113",
   "metadata": {},
   "outputs": [],
   "source": []
  },
  {
   "cell_type": "markdown",
   "id": "b55d41cc-acf6-4b5a-acc2-ead4ff6bd0f3",
   "metadata": {},
   "source": [
    "### Acquire"
   ]
  },
  {
   "cell_type": "markdown",
   "id": "1ebf0750-a4bb-49a7-a528-9f44db3355af",
   "metadata": {},
   "source": [
    "Data was acquired from telco_churn database provided by Codeup  \n",
    "Database consists of 7,043 rows and 24 columns  \n",
    "No null values observed at this point  \n",
    "Total charges dtype is object, will have to convert to float during prep  "
   ]
  },
  {
   "cell_type": "code",
   "execution_count": 5,
   "id": "5aff7d4f-7556-4bab-a4b9-9c68679695b4",
   "metadata": {},
   "outputs": [
    {
     "name": "stdout",
     "output_type": "stream",
     "text": [
      "Found CSV\n"
     ]
    }
   ],
   "source": [
    "df = acquire.get_telco_data()"
   ]
  },
  {
   "cell_type": "code",
   "execution_count": 6,
   "id": "0692c734-d042-4a6b-9184-18d1db58ccd0",
   "metadata": {},
   "outputs": [
    {
     "data": {
      "text/plain": [
       "(7043, 24)"
      ]
     },
     "execution_count": 6,
     "metadata": {},
     "output_type": "execute_result"
    }
   ],
   "source": [
    "df.shape"
   ]
  },
  {
   "cell_type": "code",
   "execution_count": 7,
   "id": "6805e672-77ff-450d-b49a-451c5f0185d1",
   "metadata": {},
   "outputs": [
    {
     "name": "stdout",
     "output_type": "stream",
     "text": [
      "<class 'pandas.core.frame.DataFrame'>\n",
      "Int64Index: 7043 entries, 0 to 7042\n",
      "Data columns (total 24 columns):\n",
      " #   Column                    Non-Null Count  Dtype  \n",
      "---  ------                    --------------  -----  \n",
      " 0   payment_type_id           7043 non-null   int64  \n",
      " 1   internet_service_type_id  7043 non-null   int64  \n",
      " 2   contract_type_id          7043 non-null   int64  \n",
      " 3   customer_id               7043 non-null   object \n",
      " 4   gender                    7043 non-null   object \n",
      " 5   senior_citizen            7043 non-null   int64  \n",
      " 6   partner                   7043 non-null   object \n",
      " 7   dependents                7043 non-null   object \n",
      " 8   tenure                    7043 non-null   int64  \n",
      " 9   phone_service             7043 non-null   object \n",
      " 10  multiple_lines            7043 non-null   object \n",
      " 11  online_security           7043 non-null   object \n",
      " 12  online_backup             7043 non-null   object \n",
      " 13  device_protection         7043 non-null   object \n",
      " 14  tech_support              7043 non-null   object \n",
      " 15  streaming_tv              7043 non-null   object \n",
      " 16  streaming_movies          7043 non-null   object \n",
      " 17  paperless_billing         7043 non-null   object \n",
      " 18  monthly_charges           7043 non-null   float64\n",
      " 19  total_charges             7043 non-null   object \n",
      " 20  churn                     7043 non-null   object \n",
      " 21  contract_type             7043 non-null   object \n",
      " 22  internet_service_type     7043 non-null   object \n",
      " 23  payment_type              7043 non-null   object \n",
      "dtypes: float64(1), int64(5), object(18)\n",
      "memory usage: 1.3+ MB\n"
     ]
    }
   ],
   "source": [
    "df.info()"
   ]
  },
  {
   "cell_type": "code",
   "execution_count": 8,
   "id": "3708d81b-9837-4b31-bdbd-79e8866f3f0a",
   "metadata": {},
   "outputs": [
    {
     "data": {
      "text/html": [
       "<div>\n",
       "<style scoped>\n",
       "    .dataframe tbody tr th:only-of-type {\n",
       "        vertical-align: middle;\n",
       "    }\n",
       "\n",
       "    .dataframe tbody tr th {\n",
       "        vertical-align: top;\n",
       "    }\n",
       "\n",
       "    .dataframe thead th {\n",
       "        text-align: right;\n",
       "    }\n",
       "</style>\n",
       "<table border=\"1\" class=\"dataframe\">\n",
       "  <thead>\n",
       "    <tr style=\"text-align: right;\">\n",
       "      <th></th>\n",
       "      <th>0</th>\n",
       "      <th>1</th>\n",
       "      <th>2</th>\n",
       "      <th>3</th>\n",
       "      <th>4</th>\n",
       "    </tr>\n",
       "  </thead>\n",
       "  <tbody>\n",
       "    <tr>\n",
       "      <th>payment_type_id</th>\n",
       "      <td>2</td>\n",
       "      <td>2</td>\n",
       "      <td>1</td>\n",
       "      <td>1</td>\n",
       "      <td>2</td>\n",
       "    </tr>\n",
       "    <tr>\n",
       "      <th>internet_service_type_id</th>\n",
       "      <td>1</td>\n",
       "      <td>1</td>\n",
       "      <td>2</td>\n",
       "      <td>2</td>\n",
       "      <td>2</td>\n",
       "    </tr>\n",
       "    <tr>\n",
       "      <th>contract_type_id</th>\n",
       "      <td>2</td>\n",
       "      <td>1</td>\n",
       "      <td>1</td>\n",
       "      <td>1</td>\n",
       "      <td>1</td>\n",
       "    </tr>\n",
       "    <tr>\n",
       "      <th>customer_id</th>\n",
       "      <td>0002-ORFBO</td>\n",
       "      <td>0003-MKNFE</td>\n",
       "      <td>0004-TLHLJ</td>\n",
       "      <td>0011-IGKFF</td>\n",
       "      <td>0013-EXCHZ</td>\n",
       "    </tr>\n",
       "    <tr>\n",
       "      <th>gender</th>\n",
       "      <td>Female</td>\n",
       "      <td>Male</td>\n",
       "      <td>Male</td>\n",
       "      <td>Male</td>\n",
       "      <td>Female</td>\n",
       "    </tr>\n",
       "    <tr>\n",
       "      <th>senior_citizen</th>\n",
       "      <td>0</td>\n",
       "      <td>0</td>\n",
       "      <td>0</td>\n",
       "      <td>1</td>\n",
       "      <td>1</td>\n",
       "    </tr>\n",
       "    <tr>\n",
       "      <th>partner</th>\n",
       "      <td>Yes</td>\n",
       "      <td>No</td>\n",
       "      <td>No</td>\n",
       "      <td>Yes</td>\n",
       "      <td>Yes</td>\n",
       "    </tr>\n",
       "    <tr>\n",
       "      <th>dependents</th>\n",
       "      <td>Yes</td>\n",
       "      <td>No</td>\n",
       "      <td>No</td>\n",
       "      <td>No</td>\n",
       "      <td>No</td>\n",
       "    </tr>\n",
       "    <tr>\n",
       "      <th>tenure</th>\n",
       "      <td>9</td>\n",
       "      <td>9</td>\n",
       "      <td>4</td>\n",
       "      <td>13</td>\n",
       "      <td>3</td>\n",
       "    </tr>\n",
       "    <tr>\n",
       "      <th>phone_service</th>\n",
       "      <td>Yes</td>\n",
       "      <td>Yes</td>\n",
       "      <td>Yes</td>\n",
       "      <td>Yes</td>\n",
       "      <td>Yes</td>\n",
       "    </tr>\n",
       "    <tr>\n",
       "      <th>multiple_lines</th>\n",
       "      <td>No</td>\n",
       "      <td>Yes</td>\n",
       "      <td>No</td>\n",
       "      <td>No</td>\n",
       "      <td>No</td>\n",
       "    </tr>\n",
       "    <tr>\n",
       "      <th>online_security</th>\n",
       "      <td>No</td>\n",
       "      <td>No</td>\n",
       "      <td>No</td>\n",
       "      <td>No</td>\n",
       "      <td>No</td>\n",
       "    </tr>\n",
       "    <tr>\n",
       "      <th>online_backup</th>\n",
       "      <td>Yes</td>\n",
       "      <td>No</td>\n",
       "      <td>No</td>\n",
       "      <td>Yes</td>\n",
       "      <td>No</td>\n",
       "    </tr>\n",
       "    <tr>\n",
       "      <th>device_protection</th>\n",
       "      <td>No</td>\n",
       "      <td>No</td>\n",
       "      <td>Yes</td>\n",
       "      <td>Yes</td>\n",
       "      <td>No</td>\n",
       "    </tr>\n",
       "    <tr>\n",
       "      <th>tech_support</th>\n",
       "      <td>Yes</td>\n",
       "      <td>No</td>\n",
       "      <td>No</td>\n",
       "      <td>No</td>\n",
       "      <td>Yes</td>\n",
       "    </tr>\n",
       "    <tr>\n",
       "      <th>streaming_tv</th>\n",
       "      <td>Yes</td>\n",
       "      <td>No</td>\n",
       "      <td>No</td>\n",
       "      <td>Yes</td>\n",
       "      <td>Yes</td>\n",
       "    </tr>\n",
       "    <tr>\n",
       "      <th>streaming_movies</th>\n",
       "      <td>No</td>\n",
       "      <td>Yes</td>\n",
       "      <td>No</td>\n",
       "      <td>Yes</td>\n",
       "      <td>No</td>\n",
       "    </tr>\n",
       "    <tr>\n",
       "      <th>paperless_billing</th>\n",
       "      <td>Yes</td>\n",
       "      <td>No</td>\n",
       "      <td>Yes</td>\n",
       "      <td>Yes</td>\n",
       "      <td>Yes</td>\n",
       "    </tr>\n",
       "    <tr>\n",
       "      <th>monthly_charges</th>\n",
       "      <td>65.6</td>\n",
       "      <td>59.9</td>\n",
       "      <td>73.9</td>\n",
       "      <td>98.0</td>\n",
       "      <td>83.9</td>\n",
       "    </tr>\n",
       "    <tr>\n",
       "      <th>total_charges</th>\n",
       "      <td>593.3</td>\n",
       "      <td>542.4</td>\n",
       "      <td>280.85</td>\n",
       "      <td>1237.85</td>\n",
       "      <td>267.4</td>\n",
       "    </tr>\n",
       "    <tr>\n",
       "      <th>churn</th>\n",
       "      <td>No</td>\n",
       "      <td>No</td>\n",
       "      <td>Yes</td>\n",
       "      <td>Yes</td>\n",
       "      <td>Yes</td>\n",
       "    </tr>\n",
       "    <tr>\n",
       "      <th>contract_type</th>\n",
       "      <td>One year</td>\n",
       "      <td>Month-to-month</td>\n",
       "      <td>Month-to-month</td>\n",
       "      <td>Month-to-month</td>\n",
       "      <td>Month-to-month</td>\n",
       "    </tr>\n",
       "    <tr>\n",
       "      <th>internet_service_type</th>\n",
       "      <td>DSL</td>\n",
       "      <td>DSL</td>\n",
       "      <td>Fiber optic</td>\n",
       "      <td>Fiber optic</td>\n",
       "      <td>Fiber optic</td>\n",
       "    </tr>\n",
       "    <tr>\n",
       "      <th>payment_type</th>\n",
       "      <td>Mailed check</td>\n",
       "      <td>Mailed check</td>\n",
       "      <td>Electronic check</td>\n",
       "      <td>Electronic check</td>\n",
       "      <td>Mailed check</td>\n",
       "    </tr>\n",
       "  </tbody>\n",
       "</table>\n",
       "</div>"
      ],
      "text/plain": [
       "                                     0               1                 2  \\\n",
       "payment_type_id                      2               2                 1   \n",
       "internet_service_type_id             1               1                 2   \n",
       "contract_type_id                     2               1                 1   \n",
       "customer_id                 0002-ORFBO      0003-MKNFE        0004-TLHLJ   \n",
       "gender                          Female            Male              Male   \n",
       "senior_citizen                       0               0                 0   \n",
       "partner                            Yes              No                No   \n",
       "dependents                         Yes              No                No   \n",
       "tenure                               9               9                 4   \n",
       "phone_service                      Yes             Yes               Yes   \n",
       "multiple_lines                      No             Yes                No   \n",
       "online_security                     No              No                No   \n",
       "online_backup                      Yes              No                No   \n",
       "device_protection                   No              No               Yes   \n",
       "tech_support                       Yes              No                No   \n",
       "streaming_tv                       Yes              No                No   \n",
       "streaming_movies                    No             Yes                No   \n",
       "paperless_billing                  Yes              No               Yes   \n",
       "monthly_charges                   65.6            59.9              73.9   \n",
       "total_charges                    593.3           542.4            280.85   \n",
       "churn                               No              No               Yes   \n",
       "contract_type                 One year  Month-to-month    Month-to-month   \n",
       "internet_service_type              DSL             DSL       Fiber optic   \n",
       "payment_type              Mailed check    Mailed check  Electronic check   \n",
       "\n",
       "                                         3               4  \n",
       "payment_type_id                          1               2  \n",
       "internet_service_type_id                 2               2  \n",
       "contract_type_id                         1               1  \n",
       "customer_id                     0011-IGKFF      0013-EXCHZ  \n",
       "gender                                Male          Female  \n",
       "senior_citizen                           1               1  \n",
       "partner                                Yes             Yes  \n",
       "dependents                              No              No  \n",
       "tenure                                  13               3  \n",
       "phone_service                          Yes             Yes  \n",
       "multiple_lines                          No              No  \n",
       "online_security                         No              No  \n",
       "online_backup                          Yes              No  \n",
       "device_protection                      Yes              No  \n",
       "tech_support                            No             Yes  \n",
       "streaming_tv                           Yes             Yes  \n",
       "streaming_movies                       Yes              No  \n",
       "paperless_billing                      Yes             Yes  \n",
       "monthly_charges                       98.0            83.9  \n",
       "total_charges                      1237.85           267.4  \n",
       "churn                                  Yes             Yes  \n",
       "contract_type               Month-to-month  Month-to-month  \n",
       "internet_service_type          Fiber optic     Fiber optic  \n",
       "payment_type              Electronic check    Mailed check  "
      ]
     },
     "execution_count": 8,
     "metadata": {},
     "output_type": "execute_result"
    }
   ],
   "source": [
    "df.head().T"
   ]
  },
  {
   "cell_type": "markdown",
   "id": "6369e9b5-5af5-4a1d-9a1b-c9c492bef9a3",
   "metadata": {},
   "source": [
    "### Prepare"
   ]
  },
  {
   "cell_type": "markdown",
   "id": "81747b2c-cd38-4f23-9112-4966e61d629d",
   "metadata": {},
   "source": [
    "Utilized function to drop duplicate columns:  \n",
    "payment_type_id  \n",
    "internet_service_type_id  \n",
    "contract_type_id  \n",
    "\n",
    "Converted total_charges to float\n",
    "Discovered Null (blank space) values in total charges.  \n",
    "Replaced null with 0:\n",
    "Since new customers have not been charged, the amount is 0  "
   ]
  },
  {
   "cell_type": "code",
   "execution_count": 9,
   "id": "1cb4aa11-0977-42b7-bcdc-86b402c24b20",
   "metadata": {},
   "outputs": [],
   "source": [
    "df = prepare.prep_telco(df)"
   ]
  },
  {
   "cell_type": "code",
   "execution_count": 10,
   "id": "9a3bddea-a270-4c64-877a-6e8a829ce489",
   "metadata": {},
   "outputs": [
    {
     "data": {
      "text/plain": [
       "(7043, 48)"
      ]
     },
     "execution_count": 10,
     "metadata": {},
     "output_type": "execute_result"
    }
   ],
   "source": [
    "df.shape"
   ]
  },
  {
   "cell_type": "code",
   "execution_count": 11,
   "id": "bda8652d-b12f-461f-b1f1-704978933e48",
   "metadata": {},
   "outputs": [
    {
     "name": "stdout",
     "output_type": "stream",
     "text": [
      "<class 'pandas.core.frame.DataFrame'>\n",
      "Int64Index: 7043 entries, 0 to 7042\n",
      "Data columns (total 48 columns):\n",
      " #   Column                                 Non-Null Count  Dtype  \n",
      "---  ------                                 --------------  -----  \n",
      " 0   customer_id                            7043 non-null   object \n",
      " 1   gender                                 7043 non-null   object \n",
      " 2   senior_citizen                         7043 non-null   int64  \n",
      " 3   partner                                7043 non-null   object \n",
      " 4   dependents                             7043 non-null   object \n",
      " 5   tenure                                 7043 non-null   int64  \n",
      " 6   phone_service                          7043 non-null   object \n",
      " 7   multiple_lines                         7043 non-null   object \n",
      " 8   online_security                        7043 non-null   object \n",
      " 9   online_backup                          7043 non-null   object \n",
      " 10  device_protection                      7043 non-null   object \n",
      " 11  tech_support                           7043 non-null   object \n",
      " 12  streaming_tv                           7043 non-null   object \n",
      " 13  streaming_movies                       7043 non-null   object \n",
      " 14  paperless_billing                      7043 non-null   object \n",
      " 15  monthly_charges                        7043 non-null   float64\n",
      " 16  total_charges                          7043 non-null   float64\n",
      " 17  churn                                  7043 non-null   object \n",
      " 18  contract_type                          7043 non-null   object \n",
      " 19  internet_service_type                  7043 non-null   object \n",
      " 20  payment_type                           7043 non-null   object \n",
      " 21  gender_Male                            7043 non-null   uint8  \n",
      " 22  partner_Yes                            7043 non-null   uint8  \n",
      " 23  dependents_Yes                         7043 non-null   uint8  \n",
      " 24  phone_service_Yes                      7043 non-null   uint8  \n",
      " 25  multiple_lines_No phone service        7043 non-null   uint8  \n",
      " 26  multiple_lines_Yes                     7043 non-null   uint8  \n",
      " 27  online_security_No internet service    7043 non-null   uint8  \n",
      " 28  online_security_Yes                    7043 non-null   uint8  \n",
      " 29  online_backup_No internet service      7043 non-null   uint8  \n",
      " 30  online_backup_Yes                      7043 non-null   uint8  \n",
      " 31  device_protection_No internet service  7043 non-null   uint8  \n",
      " 32  device_protection_Yes                  7043 non-null   uint8  \n",
      " 33  tech_support_No internet service       7043 non-null   uint8  \n",
      " 34  tech_support_Yes                       7043 non-null   uint8  \n",
      " 35  streaming_tv_No internet service       7043 non-null   uint8  \n",
      " 36  streaming_tv_Yes                       7043 non-null   uint8  \n",
      " 37  streaming_movies_No internet service   7043 non-null   uint8  \n",
      " 38  streaming_movies_Yes                   7043 non-null   uint8  \n",
      " 39  paperless_billing_Yes                  7043 non-null   uint8  \n",
      " 40  churn_Yes                              7043 non-null   uint8  \n",
      " 41  contract_type_One year                 7043 non-null   uint8  \n",
      " 42  contract_type_Two year                 7043 non-null   uint8  \n",
      " 43  internet_service_type_Fiber optic      7043 non-null   uint8  \n",
      " 44  internet_service_type_None             7043 non-null   uint8  \n",
      " 45  payment_type_Credit card (automatic)   7043 non-null   uint8  \n",
      " 46  payment_type_Electronic check          7043 non-null   uint8  \n",
      " 47  payment_type_Mailed check              7043 non-null   uint8  \n",
      "dtypes: float64(2), int64(2), object(17), uint8(27)\n",
      "memory usage: 1.4+ MB\n"
     ]
    }
   ],
   "source": [
    "df.info()"
   ]
  },
  {
   "cell_type": "code",
   "execution_count": 12,
   "id": "99912127-c5df-4646-a588-721850dd523d",
   "metadata": {},
   "outputs": [
    {
     "data": {
      "text/plain": [
       "0.00       11\n",
       "20.20      11\n",
       "19.75       9\n",
       "19.90       8\n",
       "20.05       8\n",
       "           ..\n",
       "2387.75     1\n",
       "6302.80     1\n",
       "2058.50     1\n",
       "829.55      1\n",
       "3707.60     1\n",
       "Name: total_charges, Length: 6531, dtype: int64"
      ]
     },
     "execution_count": 12,
     "metadata": {},
     "output_type": "execute_result"
    }
   ],
   "source": [
    "df.total_charges.value_counts()"
   ]
  },
  {
   "cell_type": "code",
   "execution_count": 166,
   "id": "eda48a72-6ebf-43a6-9b0d-9570f1d4015b",
   "metadata": {},
   "outputs": [
    {
     "data": {
      "image/png": "[encoded data removed]",
      "text/plain": [
       "<Figure size 572.125x500 with 1 Axes>"
      ]
     },
     "metadata": {},
     "output_type": "display_data"
    }
   ],
   "source": [
    "sns.displot(data=df, x='churn', hue='churn')\n",
    "plt.show()"
   ]
  },
  {
   "cell_type": "markdown",
   "id": "d7e9a151-4703-4f7a-bd0a-0bd88a247f35",
   "metadata": {},
   "source": [
    "### EDA Process\n",
    "Exploratory Data Analysis"
   ]
  },
  {
   "cell_type": "markdown",
   "id": "0f87aac6-40e7-400a-89b2-f4a0d31c1cc7",
   "metadata": {},
   "source": [
    "**Before** exploring, I will **split my data** set into *train, validate, test* and **ONLY** use *train* for exploration.  \n",
    "I used a function imported from prepare.py file  "
   ]
  },
  {
   "cell_type": "code",
   "execution_count": 13,
   "id": "44089d46-fb4b-4739-baec-94a6d18e4f5c",
   "metadata": {},
   "outputs": [],
   "source": [
    "train, validate, test = prepare.split_function(df, 'churn')"
   ]
  },
  {
   "cell_type": "code",
   "execution_count": 14,
   "id": "6cb56ea0-591d-4d30-8d78-19229b855ac7",
   "metadata": {},
   "outputs": [
    {
     "name": "stdout",
     "output_type": "stream",
     "text": [
      "Train: (4225, 48)\n",
      "Validate: (1409, 48)\n",
      "Test: (1409, 48)\n"
     ]
    }
   ],
   "source": [
    "print(f'Train: {train.shape}')\n",
    "print(f'Validate: {validate.shape}')\n",
    "print(f'Test: {test.shape}')"
   ]
  },
  {
   "cell_type": "code",
   "execution_count": 15,
   "id": "0cd44e73-2c8d-4812-abee-e8ae78f536cc",
   "metadata": {},
   "outputs": [
    {
     "data": {
      "text/html": [
       "<div>\n",
       "<style scoped>\n",
       "    .dataframe tbody tr th:only-of-type {\n",
       "        vertical-align: middle;\n",
       "    }\n",
       "\n",
       "    .dataframe tbody tr th {\n",
       "        vertical-align: top;\n",
       "    }\n",
       "\n",
       "    .dataframe thead th {\n",
       "        text-align: right;\n",
       "    }\n",
       "</style>\n",
       "<table border=\"1\" class=\"dataframe\">\n",
       "  <thead>\n",
       "    <tr style=\"text-align: right;\">\n",
       "      <th></th>\n",
       "      <th>customer_id</th>\n",
       "      <th>gender</th>\n",
       "      <th>senior_citizen</th>\n",
       "      <th>partner</th>\n",
       "      <th>dependents</th>\n",
       "      <th>tenure</th>\n",
       "      <th>phone_service</th>\n",
       "      <th>multiple_lines</th>\n",
       "      <th>online_security</th>\n",
       "      <th>online_backup</th>\n",
       "      <th>...</th>\n",
       "      <th>streaming_movies_Yes</th>\n",
       "      <th>paperless_billing_Yes</th>\n",
       "      <th>churn_Yes</th>\n",
       "      <th>contract_type_One year</th>\n",
       "      <th>contract_type_Two year</th>\n",
       "      <th>internet_service_type_Fiber optic</th>\n",
       "      <th>internet_service_type_None</th>\n",
       "      <th>payment_type_Credit card (automatic)</th>\n",
       "      <th>payment_type_Electronic check</th>\n",
       "      <th>payment_type_Mailed check</th>\n",
       "    </tr>\n",
       "  </thead>\n",
       "  <tbody>\n",
       "    <tr>\n",
       "      <th>5911</th>\n",
       "      <td>8319-QBEHW</td>\n",
       "      <td>Male</td>\n",
       "      <td>0</td>\n",
       "      <td>No</td>\n",
       "      <td>Yes</td>\n",
       "      <td>26</td>\n",
       "      <td>No</td>\n",
       "      <td>No phone service</td>\n",
       "      <td>No</td>\n",
       "      <td>Yes</td>\n",
       "      <td>...</td>\n",
       "      <td>0</td>\n",
       "      <td>1</td>\n",
       "      <td>0</td>\n",
       "      <td>1</td>\n",
       "      <td>0</td>\n",
       "      <td>0</td>\n",
       "      <td>0</td>\n",
       "      <td>0</td>\n",
       "      <td>0</td>\n",
       "      <td>0</td>\n",
       "    </tr>\n",
       "    <tr>\n",
       "      <th>2479</th>\n",
       "      <td>3547-LQRIK</td>\n",
       "      <td>Female</td>\n",
       "      <td>0</td>\n",
       "      <td>Yes</td>\n",
       "      <td>No</td>\n",
       "      <td>47</td>\n",
       "      <td>Yes</td>\n",
       "      <td>Yes</td>\n",
       "      <td>No internet service</td>\n",
       "      <td>No internet service</td>\n",
       "      <td>...</td>\n",
       "      <td>0</td>\n",
       "      <td>0</td>\n",
       "      <td>0</td>\n",
       "      <td>1</td>\n",
       "      <td>0</td>\n",
       "      <td>0</td>\n",
       "      <td>1</td>\n",
       "      <td>0</td>\n",
       "      <td>1</td>\n",
       "      <td>0</td>\n",
       "    </tr>\n",
       "    <tr>\n",
       "      <th>5889</th>\n",
       "      <td>8280-MQRQN</td>\n",
       "      <td>Female</td>\n",
       "      <td>0</td>\n",
       "      <td>No</td>\n",
       "      <td>No</td>\n",
       "      <td>1</td>\n",
       "      <td>Yes</td>\n",
       "      <td>No</td>\n",
       "      <td>No</td>\n",
       "      <td>No</td>\n",
       "      <td>...</td>\n",
       "      <td>0</td>\n",
       "      <td>1</td>\n",
       "      <td>1</td>\n",
       "      <td>0</td>\n",
       "      <td>0</td>\n",
       "      <td>0</td>\n",
       "      <td>0</td>\n",
       "      <td>0</td>\n",
       "      <td>0</td>\n",
       "      <td>1</td>\n",
       "    </tr>\n",
       "    <tr>\n",
       "      <th>6087</th>\n",
       "      <td>8626-PTQGE</td>\n",
       "      <td>Male</td>\n",
       "      <td>0</td>\n",
       "      <td>No</td>\n",
       "      <td>No</td>\n",
       "      <td>69</td>\n",
       "      <td>No</td>\n",
       "      <td>No phone service</td>\n",
       "      <td>Yes</td>\n",
       "      <td>Yes</td>\n",
       "      <td>...</td>\n",
       "      <td>1</td>\n",
       "      <td>1</td>\n",
       "      <td>0</td>\n",
       "      <td>0</td>\n",
       "      <td>1</td>\n",
       "      <td>0</td>\n",
       "      <td>0</td>\n",
       "      <td>0</td>\n",
       "      <td>0</td>\n",
       "      <td>0</td>\n",
       "    </tr>\n",
       "    <tr>\n",
       "      <th>785</th>\n",
       "      <td>1142-IHLOO</td>\n",
       "      <td>Female</td>\n",
       "      <td>0</td>\n",
       "      <td>No</td>\n",
       "      <td>No</td>\n",
       "      <td>51</td>\n",
       "      <td>Yes</td>\n",
       "      <td>No</td>\n",
       "      <td>No</td>\n",
       "      <td>No</td>\n",
       "      <td>...</td>\n",
       "      <td>1</td>\n",
       "      <td>0</td>\n",
       "      <td>0</td>\n",
       "      <td>1</td>\n",
       "      <td>0</td>\n",
       "      <td>1</td>\n",
       "      <td>0</td>\n",
       "      <td>1</td>\n",
       "      <td>0</td>\n",
       "      <td>0</td>\n",
       "    </tr>\n",
       "  </tbody>\n",
       "</table>\n",
       "<p>5 rows × 48 columns</p>\n",
       "</div>"
      ],
      "text/plain": [
       "     customer_id  gender  senior_citizen partner dependents  tenure  \\\n",
       "5911  8319-QBEHW    Male               0      No        Yes      26   \n",
       "2479  3547-LQRIK  Female               0     Yes         No      47   \n",
       "5889  8280-MQRQN  Female               0      No         No       1   \n",
       "6087  8626-PTQGE    Male               0      No         No      69   \n",
       "785   1142-IHLOO  Female               0      No         No      51   \n",
       "\n",
       "     phone_service    multiple_lines      online_security  \\\n",
       "5911            No  No phone service                   No   \n",
       "2479           Yes               Yes  No internet service   \n",
       "5889           Yes                No                   No   \n",
       "6087            No  No phone service                  Yes   \n",
       "785            Yes                No                   No   \n",
       "\n",
       "            online_backup  ... streaming_movies_Yes paperless_billing_Yes  \\\n",
       "5911                  Yes  ...                    0                     1   \n",
       "2479  No internet service  ...                    0                     0   \n",
       "5889                   No  ...                    0                     1   \n",
       "6087                  Yes  ...                    1                     1   \n",
       "785                    No  ...                    1                     0   \n",
       "\n",
       "     churn_Yes contract_type_One year contract_type_Two year  \\\n",
       "5911         0                      1                      0   \n",
       "2479         0                      1                      0   \n",
       "5889         1                      0                      0   \n",
       "6087         0                      0                      1   \n",
       "785          0                      1                      0   \n",
       "\n",
       "      internet_service_type_Fiber optic  internet_service_type_None  \\\n",
       "5911                                  0                           0   \n",
       "2479                                  0                           1   \n",
       "5889                                  0                           0   \n",
       "6087                                  0                           0   \n",
       "785                                   1                           0   \n",
       "\n",
       "     payment_type_Credit card (automatic) payment_type_Electronic check  \\\n",
       "5911                                    0                             0   \n",
       "2479                                    0                             1   \n",
       "5889                                    0                             0   \n",
       "6087                                    0                             0   \n",
       "785                                     1                             0   \n",
       "\n",
       "     payment_type_Mailed check  \n",
       "5911                         0  \n",
       "2479                         0  \n",
       "5889                         1  \n",
       "6087                         0  \n",
       "785                          0  \n",
       "\n",
       "[5 rows x 48 columns]"
      ]
     },
     "execution_count": 15,
     "metadata": {},
     "output_type": "execute_result"
    }
   ],
   "source": [
    "train.head()"
   ]
  },
  {
   "cell_type": "code",
   "execution_count": null,
   "id": "28f9f165-eb55-4de7-9946-36c07dd3bd15",
   "metadata": {},
   "outputs": [],
   "source": []
  },
  {
   "cell_type": "markdown",
   "id": "4e18ed0f-0856-461b-930a-084124870ff1",
   "metadata": {},
   "source": [
    "#### Question 1"
   ]
  },
  {
   "cell_type": "markdown",
   "id": "94c92f23-e820-4646-8255-c283381e657b",
   "metadata": {},
   "source": [
    "**Do monthly charges effect customer churn?**\n",
    "\n",
    "Monthly charges = Continuous  \n",
    "Churn           = Categorical  \n",
    "\n",
    "1 sample 1 tail ttest"
   ]
  },
  {
   "cell_type": "markdown",
   "id": "7aed3966-0aa9-4cb3-98cf-dce29a586af5",
   "metadata": {},
   "source": [
    "$H_0$: Mean of monthly charges of churned customers <= Mean of monthly charges of all customers  \n",
    "$H_a$: Mean of monthly charges of churned customers > Mean of monthly charges of all customers  "
   ]
  },
  {
   "cell_type": "code",
   "execution_count": 16,
   "id": "61a03a60-9ae5-4bb1-a3c3-dec44d5e41bb",
   "metadata": {},
   "outputs": [],
   "source": [
    "alpha = 0.05"
   ]
  },
  {
   "cell_type": "code",
   "execution_count": 17,
   "id": "10e03cd2-eea1-4557-8344-aaaac8db4000",
   "metadata": {},
   "outputs": [
    {
     "data": {
      "text/plain": [
       "No     3104\n",
       "Yes    1121\n",
       "Name: churn, dtype: int64"
      ]
     },
     "execution_count": 17,
     "metadata": {},
     "output_type": "execute_result"
    }
   ],
   "source": [
    "# displaying amount of customers who have and have not churned\n",
    "train.churn.value_counts()"
   ]
  },
  {
   "cell_type": "code",
   "execution_count": 19,
   "id": "30ffa8f1-e531-4725-af8f-e0faa151f3a8",
   "metadata": {},
   "outputs": [],
   "source": [
    "no_churn = train[train.churn == 'No']"
   ]
  },
  {
   "cell_type": "code",
   "execution_count": 20,
   "id": "debcc790-9ddf-451b-9307-f443d65e378e",
   "metadata": {},
   "outputs": [],
   "source": [
    "# isolating churned customers for ttest\n",
    "churned = train[train.churn == 'Yes']"
   ]
  },
  {
   "cell_type": "code",
   "execution_count": 172,
   "id": "a2c57702-2431-407b-bf93-0d45396f8c77",
   "metadata": {},
   "outputs": [
    {
     "data": {
      "image/png": "[encoded data removed]",
      "text/plain": [
       "<Figure size 640x480 with 1 Axes>"
      ]
     },
     "metadata": {},
     "output_type": "display_data"
    }
   ],
   "source": [
    "# showing distribution of customers who have churned based on monthly charges\n",
    "plt.title('Monthly Charges and Customer Status')\n",
    "plt.hist(no_churn.monthly_charges, label='Not Churned')\n",
    "plt.hist(churned.monthly_charges, label='Churned')\n",
    "plt.xlabel('Monthly Charge Amount')\n",
    "plt.ylabel('Number of Customers')\n",
    "plt.legend()\n",
    "plt.show()"
   ]
  },
  {
   "cell_type": "code",
   "execution_count": 22,
   "id": "78918684-a3f5-46da-9b9c-1eb96cb9ad95",
   "metadata": {},
   "outputs": [],
   "source": [
    "# calculating mean monthly charges for ttest\n",
    "overall_mean = train.monthly_charges.mean()"
   ]
  },
  {
   "cell_type": "code",
   "execution_count": 23,
   "id": "3f41d464-6f07-4f50-812f-fa5dc842ef8c",
   "metadata": {},
   "outputs": [
    {
     "name": "stdout",
     "output_type": "stream",
     "text": [
      "12.65294490503547 1.0740986591134452e-34 0.05\n"
     ]
    }
   ],
   "source": [
    "# initiating ttest\n",
    "t, p = stats.ttest_1samp(churned.monthly_charges, overall_mean)\n",
    "\n",
    "print(t, p/2, alpha)"
   ]
  },
  {
   "cell_type": "code",
   "execution_count": 24,
   "id": "453b21e9-678d-4302-8fb2-c82bb0f7014a",
   "metadata": {},
   "outputs": [
    {
     "name": "stdout",
     "output_type": "stream",
     "text": [
      "We reject the hypothesis\n"
     ]
    }
   ],
   "source": [
    "# printing test outcome results\n",
    "if p/2 > alpha:\n",
    "    print('We fail to reject the hypothesis')\n",
    "elif t < 0:\n",
    "    print('We fail to reject the hypothesis')\n",
    "else:\n",
    "    print('We reject the hypothesis')"
   ]
  },
  {
   "cell_type": "markdown",
   "id": "30745c9c-1f04-46fe-a338-e51e4b73295a",
   "metadata": {},
   "source": [
    "**Takeaway:**  \n",
    "Based on our 1 sample t-test, we can infer that monthly charges of churned customers are higher than the mean of all customers."
   ]
  },
  {
   "cell_type": "markdown",
   "id": "c291d784-3d99-46ee-a9d9-27811d67dfcc",
   "metadata": {},
   "source": [
    "#### Question 2"
   ]
  },
  {
   "cell_type": "markdown",
   "id": "c3607726-5730-4937-9ec1-f74f12c5ba0f",
   "metadata": {},
   "source": [
    "**Does internet service type effect customer churn?**  \n",
    "Internet service type = categorical  \n",
    "Churn = categorical  \n",
    "\n",
    "$Chi^2$ test"
   ]
  },
  {
   "cell_type": "markdown",
   "id": "ffcf7adb-e261-4b4e-8971-4f42c8b11622",
   "metadata": {},
   "source": [
    "$H_0$: Customer Churn is independent of Internet service type  \n",
    "$H_a$: Customer Churn is dependent on Internet service"
   ]
  },
  {
   "cell_type": "code",
   "execution_count": 25,
   "id": "37abae52-25f9-4a2b-a834-1ea09ca018cf",
   "metadata": {},
   "outputs": [
    {
     "data": {
      "text/plain": [
       "Fiber optic    1855\n",
       "DSL            1447\n",
       "None            923\n",
       "Name: internet_service_type, dtype: int64"
      ]
     },
     "execution_count": 25,
     "metadata": {},
     "output_type": "execute_result"
    }
   ],
   "source": [
    "train.internet_service_type.value_counts()"
   ]
  },
  {
   "cell_type": "code",
   "execution_count": 149,
   "id": "0f5f8de0-4389-4214-b679-9fd655ed19a4",
   "metadata": {},
   "outputs": [
    {
     "data": {
      "text/html": [
       "<div>\n",
       "<style scoped>\n",
       "    .dataframe tbody tr th:only-of-type {\n",
       "        vertical-align: middle;\n",
       "    }\n",
       "\n",
       "    .dataframe tbody tr th {\n",
       "        vertical-align: top;\n",
       "    }\n",
       "\n",
       "    .dataframe thead th {\n",
       "        text-align: right;\n",
       "    }\n",
       "</style>\n",
       "<table border=\"1\" class=\"dataframe\">\n",
       "  <thead>\n",
       "    <tr style=\"text-align: right;\">\n",
       "      <th>churn</th>\n",
       "      <th>No</th>\n",
       "      <th>Yes</th>\n",
       "    </tr>\n",
       "    <tr>\n",
       "      <th>internet_service_type</th>\n",
       "      <th></th>\n",
       "      <th></th>\n",
       "    </tr>\n",
       "  </thead>\n",
       "  <tbody>\n",
       "    <tr>\n",
       "      <th>DSL</th>\n",
       "      <td>1173</td>\n",
       "      <td>274</td>\n",
       "    </tr>\n",
       "    <tr>\n",
       "      <th>Fiber optic</th>\n",
       "      <td>1082</td>\n",
       "      <td>773</td>\n",
       "    </tr>\n",
       "    <tr>\n",
       "      <th>None</th>\n",
       "      <td>849</td>\n",
       "      <td>74</td>\n",
       "    </tr>\n",
       "  </tbody>\n",
       "</table>\n",
       "</div>"
      ],
      "text/plain": [
       "churn                    No  Yes\n",
       "internet_service_type           \n",
       "DSL                    1173  274\n",
       "Fiber optic            1082  773\n",
       "None                    849   74"
      ]
     },
     "execution_count": 149,
     "metadata": {},
     "output_type": "execute_result"
    }
   ],
   "source": [
    "observed = pd.crosstab(train.internet_service_type, train.churn)\n",
    "observed"
   ]
  },
  {
   "cell_type": "code",
   "execution_count": 151,
   "id": "d7f8d36e-23b4-4f22-a05c-4acd4237f455",
   "metadata": {},
   "outputs": [
    {
     "data": {
      "image/png": "[encoded data removed]",
      "text/plain": [
       "<Figure size 600x600 with 1 Axes>"
      ]
     },
     "metadata": {},
     "output_type": "display_data"
    }
   ],
   "source": [
    "observed.plot.bar(subplots=False, figsize=(6, 6), legend=False)\n",
    "plt.show()"
   ]
  },
  {
   "cell_type": "code",
   "execution_count": 28,
   "id": "b4111fa4-7ac9-46ca-a2fa-83aae902739c",
   "metadata": {},
   "outputs": [
    {
     "data": {
      "text/plain": [
       "<AxesSubplot:>"
      ]
     },
     "execution_count": 28,
     "metadata": {},
     "output_type": "execute_result"
    },
    {
     "data": {
      "image/png": "[encoded data removed]",
      "text/plain": [
       "<Figure size 640x480 with 1 Axes>"
      ]
     },
     "metadata": {},
     "output_type": "display_data"
    }
   ],
   "source": [
    "churned.internet_service_type.hist()"
   ]
  },
  {
   "cell_type": "code",
   "execution_count": 29,
   "id": "b40dd4fc-6308-467c-9d29-fcf5c268dde8",
   "metadata": {},
   "outputs": [
    {
     "data": {
      "text/plain": [
       "<AxesSubplot:>"
      ]
     },
     "execution_count": 29,
     "metadata": {},
     "output_type": "execute_result"
    },
    {
     "data": {
      "image/png": "[encoded data removed]",
      "text/plain": [
       "<Figure size 640x480 with 1 Axes>"
      ]
     },
     "metadata": {},
     "output_type": "display_data"
    }
   ],
   "source": [
    "no_churn.internet_service_type.hist()"
   ]
  },
  {
   "cell_type": "code",
   "execution_count": 30,
   "id": "8ec57c5b-f23f-4d9b-b1e2-f206cb4b4edd",
   "metadata": {},
   "outputs": [],
   "source": [
    "chi2, p, degf, expected = stats.chi2_contingency(observed)"
   ]
  },
  {
   "cell_type": "code",
   "execution_count": 31,
   "id": "36e1a51d-0243-4566-be9d-aab00a434657",
   "metadata": {},
   "outputs": [
    {
     "name": "stdout",
     "output_type": "stream",
     "text": [
      "Observed Values\n",
      "\n",
      "[[1173  274]\n",
      " [1082  773]\n",
      " [ 849   74]]\n",
      "---\n",
      "Expected Values\n",
      "\n",
      "[[1063  383]\n",
      " [1362  492]\n",
      " [ 678  244]]\n",
      "---\n",
      "\n",
      "chi^2 = 423.2590\n",
      "p.    = 0.0000\n"
     ]
    }
   ],
   "source": [
    "# print 'Observed Values' followed by a new line\n",
    "print('Observed Values\\n')\n",
    "\n",
    "# print the values from the 'observed dataframe'\n",
    "print(observed.values)\n",
    "\n",
    "# print --- and then a new line, 'Expected Values', followed by a new line\n",
    "print('---\\nExpected Values\\n')\n",
    "\n",
    "# print the expected values\n",
    "print(expected.astype(int))\n",
    "\n",
    "# print a new line\n",
    "print('---\\n')\n",
    "\n",
    "# print the chi2 value, formatted to a float with 4 digits\n",
    "print(f'chi^2 = {chi2:.4f}')\n",
    "\n",
    "# print the p-value, formatted to a float with 4 digits\n",
    "print(f'p.    = {p:.4f}')"
   ]
  },
  {
   "cell_type": "code",
   "execution_count": 32,
   "id": "1979714c-23bf-4ed0-af99-02deafa60116",
   "metadata": {},
   "outputs": [
    {
     "name": "stdout",
     "output_type": "stream",
     "text": [
      "We reject the null hypothesis\n"
     ]
    }
   ],
   "source": [
    "if p > alpha:\n",
    "    print('We fail to reject the null hypothesis')\n",
    "else:\n",
    "    print('We reject the null hypothesis')"
   ]
  },
  {
   "cell_type": "markdown",
   "id": "4f8e1d54-7045-42b2-9d1b-55b06369a62c",
   "metadata": {},
   "source": [
    "**Takeaway:**  \n",
    "Internet service type does effect customer churn"
   ]
  },
  {
   "cell_type": "markdown",
   "id": "602d0f0f-db54-46c1-9982-e832e77a964c",
   "metadata": {},
   "source": [
    "#### Question 3"
   ]
  },
  {
   "cell_type": "markdown",
   "id": "2b889b8d-f206-40f0-b1b1-509b037af2f3",
   "metadata": {},
   "source": [
    "**Does tenure effect customer churn?**  \n",
    "Tenure = Continuous  \n",
    "Churn = Categorical"
   ]
  },
  {
   "cell_type": "markdown",
   "id": "83273eba-920f-4ce8-866b-7eb0a2e88d69",
   "metadata": {},
   "source": [
    "$H_0$: Mean tenure of churned customers == Mean tenure of active customers  \n",
    "$H_a$: Mean tenure of churned customers != Mean tenure of active customers  "
   ]
  },
  {
   "cell_type": "code",
   "execution_count": null,
   "id": "e8c838d2-cf6b-4f0e-bbfb-2c60fe6299e6",
   "metadata": {},
   "outputs": [],
   "source": []
  },
  {
   "cell_type": "code",
   "execution_count": 33,
   "id": "62a888b5-a35b-4eca-b2f6-0db0349731a7",
   "metadata": {},
   "outputs": [
    {
     "data": {
      "text/plain": [
       "No     3104\n",
       "Yes    1121\n",
       "Name: churn, dtype: int64"
      ]
     },
     "execution_count": 33,
     "metadata": {},
     "output_type": "execute_result"
    }
   ],
   "source": [
    "train.churn.value_counts()"
   ]
  },
  {
   "cell_type": "code",
   "execution_count": 173,
   "id": "8f6195ad-4d70-42fb-beb5-10087418b0ba",
   "metadata": {},
   "outputs": [
    {
     "data": {
      "image/png": "[encoded data removed]",
      "text/plain": [
       "<Figure size 572.125x500 with 1 Axes>"
      ]
     },
     "metadata": {},
     "output_type": "display_data"
    }
   ],
   "source": [
    "sns.displot(data=df, x='tenure', hue='churn')\n",
    "plt.title('Customer Churn')\n",
    "plt.show()"
   ]
  },
  {
   "cell_type": "code",
   "execution_count": 34,
   "id": "ebfe6d4c-814e-4145-8259-ca2046bdf306",
   "metadata": {},
   "outputs": [
    {
     "data": {
      "image/png": "[encoded data removed]",
      "text/plain": [
       "<Figure size 640x480 with 1 Axes>"
      ]
     },
     "metadata": {},
     "output_type": "display_data"
    }
   ],
   "source": [
    "sns.barplot(data=train, x='churn', y='tenure')\n",
    "plt.show()"
   ]
  },
  {
   "cell_type": "code",
   "execution_count": 35,
   "id": "4c1513d3-cc83-4491-a8b0-49717464ab22",
   "metadata": {},
   "outputs": [
    {
     "data": {
      "text/plain": [
       "(1121, 48)"
      ]
     },
     "execution_count": 35,
     "metadata": {},
     "output_type": "execute_result"
    }
   ],
   "source": [
    "# isolating churned customers for ttest\n",
    "churned = train[train.churn == 'Yes']\n",
    "churned.shape"
   ]
  },
  {
   "cell_type": "code",
   "execution_count": 36,
   "id": "03bc9272-b17c-4fd5-adef-7b2be3b0d674",
   "metadata": {},
   "outputs": [],
   "source": [
    "alpha = 0.05"
   ]
  },
  {
   "cell_type": "code",
   "execution_count": 37,
   "id": "b67f1307-77ee-4e91-ab6d-afe0d16c8ec1",
   "metadata": {},
   "outputs": [
    {
     "data": {
      "text/plain": [
       "(3104, 48)"
      ]
     },
     "execution_count": 37,
     "metadata": {},
     "output_type": "execute_result"
    }
   ],
   "source": [
    "no_churn.shape"
   ]
  },
  {
   "cell_type": "code",
   "execution_count": 38,
   "id": "66c8205d-483e-42bf-b445-7206004e1663",
   "metadata": {},
   "outputs": [
    {
     "data": {
      "text/plain": [
       "18.28278322925959"
      ]
     },
     "execution_count": 38,
     "metadata": {},
     "output_type": "execute_result"
    }
   ],
   "source": [
    "churned.tenure.mean()"
   ]
  },
  {
   "cell_type": "code",
   "execution_count": 39,
   "id": "28428d57-4f2d-4611-8226-320d915a3773",
   "metadata": {},
   "outputs": [
    {
     "data": {
      "text/plain": [
       "37.63563144329897"
      ]
     },
     "execution_count": 39,
     "metadata": {},
     "output_type": "execute_result"
    }
   ],
   "source": [
    "no_churn.tenure.mean()"
   ]
  },
  {
   "cell_type": "code",
   "execution_count": 40,
   "id": "28d9afd8-984e-4be1-be81-67d013ee0462",
   "metadata": {},
   "outputs": [
    {
     "data": {
      "text/plain": [
       "(384.3762122467161, 581.1295195495867)"
      ]
     },
     "execution_count": 40,
     "metadata": {},
     "output_type": "execute_result"
    }
   ],
   "source": [
    "churned.tenure.var(), no_churn.tenure.var()"
   ]
  },
  {
   "cell_type": "code",
   "execution_count": 41,
   "id": "f003a8fa-1039-4481-be41-e639ecf10cb6",
   "metadata": {},
   "outputs": [
    {
     "data": {
      "text/plain": [
       "(239.792666591809, 1.1927270969927419e-52)"
      ]
     },
     "execution_count": 41,
     "metadata": {},
     "output_type": "execute_result"
    }
   ],
   "source": [
    "stat, pval = stats.levene(churned.tenure, no_churn.tenure)\n",
    "stat, pval"
   ]
  },
  {
   "cell_type": "code",
   "execution_count": 42,
   "id": "de0016b6-2152-4ba4-b880-a69700d18572",
   "metadata": {},
   "outputs": [
    {
     "data": {
      "text/plain": [
       "(-26.580512011299394, 8.804788934588686e-137)"
      ]
     },
     "execution_count": 42,
     "metadata": {},
     "output_type": "execute_result"
    }
   ],
   "source": [
    "t, p = stats.ttest_ind(churned.tenure, no_churn.tenure, equal_var=False)\n",
    "t, p "
   ]
  },
  {
   "cell_type": "code",
   "execution_count": 43,
   "id": "6d29af35-ae9c-4fe6-9733-ba20cfe7a9d3",
   "metadata": {},
   "outputs": [
    {
     "name": "stdout",
     "output_type": "stream",
     "text": [
      "We reject the null hypothesis\n"
     ]
    }
   ],
   "source": [
    "if p > alpha:\n",
    "    print('We fail to reject the null hypothesis')\n",
    "else:\n",
    "    print('We reject the null hypothesis')"
   ]
  },
  {
   "cell_type": "markdown",
   "id": "30dbb37c-4440-44a9-838c-789356a5023e",
   "metadata": {},
   "source": [
    "**Takeaway:**  \n",
    "We can infer that the mean tenure of active customers is higher than the mean tenure of customers who churn.  \n",
    "Lifetime value of churned customers is half that of active customers"
   ]
  },
  {
   "cell_type": "markdown",
   "id": "cd250c3d-f0fa-4777-b3e5-ef8af87a3ca0",
   "metadata": {},
   "source": [
    "#### Question 4"
   ]
  },
  {
   "cell_type": "markdown",
   "id": "b1960e0e-f1e1-47d9-8dd9-5eb1da4d4148",
   "metadata": {},
   "source": [
    "**Does contract type effect customer churn?**  \n",
    "Contract type == categorical  \n",
    "churn == categorical\n",
    "\n",
    "$Chi^2$ test  "
   ]
  },
  {
   "cell_type": "markdown",
   "id": "4da3235f-0e43-4992-a918-5918d9145e37",
   "metadata": {},
   "source": [
    "$H_0$: Customer Churn is independent of contract type  \n",
    "$H_a$: Customer Churn is dependent on contract type"
   ]
  },
  {
   "cell_type": "code",
   "execution_count": 44,
   "id": "218b2e9e-a7e1-4905-aa52-5819b714fd2e",
   "metadata": {},
   "outputs": [
    {
     "data": {
      "text/plain": [
       "Month-to-month    2317\n",
       "Two year           995\n",
       "One year           913\n",
       "Name: contract_type, dtype: int64"
      ]
     },
     "execution_count": 44,
     "metadata": {},
     "output_type": "execute_result"
    }
   ],
   "source": [
    "train.contract_type.value_counts()"
   ]
  },
  {
   "cell_type": "code",
   "execution_count": 45,
   "id": "93d1a557-1b1d-48cb-a791-2a09ccca35a0",
   "metadata": {},
   "outputs": [
    {
     "data": {
      "image/png": "[encoded data removed]",
      "text/plain": [
       "<Figure size 572.125x500 with 1 Axes>"
      ]
     },
     "metadata": {},
     "output_type": "display_data"
    }
   ],
   "source": [
    "sns.displot(data=train, x='contract_type', hue='churn')\n",
    "plt.show()"
   ]
  },
  {
   "cell_type": "code",
   "execution_count": 46,
   "id": "eff9e83a-1658-4b0b-ae59-a53bcdadb294",
   "metadata": {},
   "outputs": [],
   "source": [
    "alpha = 0.05"
   ]
  },
  {
   "cell_type": "code",
   "execution_count": 47,
   "id": "e7de9548-e766-45d7-bb58-b2c3d56c2e3a",
   "metadata": {},
   "outputs": [
    {
     "data": {
      "text/html": [
       "<div>\n",
       "<style scoped>\n",
       "    .dataframe tbody tr th:only-of-type {\n",
       "        vertical-align: middle;\n",
       "    }\n",
       "\n",
       "    .dataframe tbody tr th {\n",
       "        vertical-align: top;\n",
       "    }\n",
       "\n",
       "    .dataframe thead th {\n",
       "        text-align: right;\n",
       "    }\n",
       "</style>\n",
       "<table border=\"1\" class=\"dataframe\">\n",
       "  <thead>\n",
       "    <tr style=\"text-align: right;\">\n",
       "      <th>churn</th>\n",
       "      <th>No</th>\n",
       "      <th>Yes</th>\n",
       "    </tr>\n",
       "    <tr>\n",
       "      <th>contract_type</th>\n",
       "      <th></th>\n",
       "      <th></th>\n",
       "    </tr>\n",
       "  </thead>\n",
       "  <tbody>\n",
       "    <tr>\n",
       "      <th>Month-to-month</th>\n",
       "      <td>1327</td>\n",
       "      <td>990</td>\n",
       "    </tr>\n",
       "    <tr>\n",
       "      <th>One year</th>\n",
       "      <td>815</td>\n",
       "      <td>98</td>\n",
       "    </tr>\n",
       "    <tr>\n",
       "      <th>Two year</th>\n",
       "      <td>962</td>\n",
       "      <td>33</td>\n",
       "    </tr>\n",
       "  </tbody>\n",
       "</table>\n",
       "</div>"
      ],
      "text/plain": [
       "churn             No  Yes\n",
       "contract_type            \n",
       "Month-to-month  1327  990\n",
       "One year         815   98\n",
       "Two year         962   33"
      ]
     },
     "execution_count": 47,
     "metadata": {},
     "output_type": "execute_result"
    }
   ],
   "source": [
    "observed = pd.crosstab(train.contract_type, train.churn)\n",
    "observed"
   ]
  },
  {
   "cell_type": "code",
   "execution_count": 48,
   "id": "c1599345-9a3f-4b7a-af62-1e24af6f69d2",
   "metadata": {},
   "outputs": [],
   "source": [
    "chi2, p, degf, expected = stats.chi2_contingency(observed)"
   ]
  },
  {
   "cell_type": "code",
   "execution_count": 49,
   "id": "be302af6-685e-4256-aa28-13dc44525bfe",
   "metadata": {},
   "outputs": [
    {
     "name": "stdout",
     "output_type": "stream",
     "text": [
      "Observed Values\n",
      "\n",
      "[[1327  990]\n",
      " [ 815   98]\n",
      " [ 962   33]]\n",
      "---\n",
      "Expected Values\n",
      "\n",
      "[[1702  614]\n",
      " [ 670  242]\n",
      " [ 731  263]]\n",
      "---\n",
      "\n",
      "chi^2 = 703.7871\n",
      "p.    = 0.0000\n"
     ]
    }
   ],
   "source": [
    "# print 'Observed Values' followed by a new line\n",
    "print('Observed Values\\n')\n",
    "\n",
    "# print the values from the 'observed dataframe'\n",
    "print(observed.values)\n",
    "\n",
    "# print --- and then a new line, 'Expected Values', followed by a new line\n",
    "print('---\\nExpected Values\\n')\n",
    "\n",
    "# print the expected values\n",
    "print(expected.astype(int))\n",
    "\n",
    "# print a new line\n",
    "print('---\\n')\n",
    "\n",
    "# print the chi2 value, formatted to a float with 4 digits\n",
    "print(f'chi^2 = {chi2:.4f}')\n",
    "\n",
    "# print the p-value, formatted to a float with 4 digits\n",
    "print(f'p.    = {p:.4f}')"
   ]
  },
  {
   "cell_type": "code",
   "execution_count": 50,
   "id": "c79e83c7-16aa-4b35-a6b9-f8de4ddfec97",
   "metadata": {},
   "outputs": [
    {
     "name": "stdout",
     "output_type": "stream",
     "text": [
      "We reject the null hypothesis\n"
     ]
    }
   ],
   "source": [
    "if p > alpha:\n",
    "    print('We fail to reject the null hypothesis')\n",
    "else:\n",
    "    print('We reject the null hypothesis')"
   ]
  },
  {
   "cell_type": "code",
   "execution_count": 51,
   "id": "5445920b-6fc8-4a50-9224-cdae336977d6",
   "metadata": {},
   "outputs": [
    {
     "data": {
      "text/plain": [
       "Month-to-month    990\n",
       "One year           98\n",
       "Two year           33\n",
       "Name: contract_type, dtype: int64"
      ]
     },
     "execution_count": 51,
     "metadata": {},
     "output_type": "execute_result"
    }
   ],
   "source": [
    "train[train.churn == 'Yes'].contract_type.value_counts()"
   ]
  },
  {
   "cell_type": "code",
   "execution_count": 52,
   "id": "cd5b7089-bc6d-414a-a532-8c8d6d6ef0a0",
   "metadata": {},
   "outputs": [
    {
     "data": {
      "text/plain": [
       "0.8831400535236396"
      ]
     },
     "execution_count": 52,
     "metadata": {},
     "output_type": "execute_result"
    }
   ],
   "source": [
    "990 / (990+98+33)"
   ]
  },
  {
   "cell_type": "markdown",
   "id": "6a0a0273-8022-45a4-b4bf-542f0fbff559",
   "metadata": {},
   "source": [
    "**Takeaway:**  \n",
    "Contract type does play a role in customer churn.  \n",
    "Month-to-month is the bulk of all contracts.  \n",
    "Month-to-month is 88% of contracts for customers who churn.  "
   ]
  },
  {
   "cell_type": "markdown",
   "id": "0104aa34-d48c-4034-a0e5-1a172a4a97dd",
   "metadata": {},
   "source": [
    "### EDA Summary"
   ]
  },
  {
   "cell_type": "markdown",
   "id": "2bea2be5-4110-4afb-b014-fcba5d1d7cc4",
   "metadata": {},
   "source": [
    "**I answered 4 primary questions during the EDA phase of this project:**  \n",
    "\n",
    "1. ***Does monthly charges effect customer churn?***  \n",
    "2. ***Does internet service type effect customer churn?***  \n",
    "3. ***Does tenure effect customer churn?***  \n",
    "4. ***Does contract type effect customer churn?***  \n",
    "\n",
    "The outcome for all 4 questions is **Yes**.  \n",
    "I will be using all 4 features in the modeling phase.  \n",
    "I was not surprised by the outcomes, I expected all 4 to play a role in customer churn. I wanted to test each to verify.  "
   ]
  },
  {
   "cell_type": "markdown",
   "id": "bdd4a35b-9e7a-4df6-8328-05964d56f69a",
   "metadata": {},
   "source": [
    "### Modeling"
   ]
  },
  {
   "cell_type": "markdown",
   "id": "092a64a4-b19c-4cec-906b-7fbde262d7eb",
   "metadata": {},
   "source": [
    "#### Introduction  \n",
    "\n",
    "I will use 2 ML algorithms:  \n",
    "***Random Forests*** & ***Logistic Regression***  \n",
    "Once multiple iterations are ran for both models, I will pick the top 3 and display them for the project deliverable.  "
   ]
  },
  {
   "cell_type": "markdown",
   "id": "f5c9381f-02da-454f-81d9-dcae3ba95aeb",
   "metadata": {},
   "source": [
    "#### Random Forest"
   ]
  },
  {
   "cell_type": "markdown",
   "id": "b1d38c27-ecd9-46ac-b339-9b8c5266c4df",
   "metadata": {},
   "source": [
    "Features used for the first Model:  \n",
    "tenure  ---------------->  'tenure'  \n",
    "tech support  ---------->  'tech_support_No internet service' , 'tech_support_Yes'  \n",
    "monthly charges  ------>  'monthly_charges'  \n",
    "contract type  --------->  'contract_type_One year' , 'contract_type_Two year'  \n",
    "internet service type  -->  'internet_service_type_Fiber optic' , 'internet_service_type_None'  "
   ]
  },
  {
   "cell_type": "code",
   "execution_count": 54,
   "id": "bf02fc81-653f-4624-a40b-13f1ed790b64",
   "metadata": {},
   "outputs": [
    {
     "name": "stdout",
     "output_type": "stream",
     "text": [
      "Baseline Accuracy: 73.47%\n"
     ]
    }
   ],
   "source": [
    "#Calculate baseline accuracy\n",
    "baseline_accuracy = train[target_variable].value_counts().max() / train[target_variable].value_counts().sum()\n",
    "print(f'Baseline Accuracy: {baseline_accuracy:.2%}')"
   ]
  },
  {
   "cell_type": "code",
   "execution_count": 81,
   "id": "f337693c-3b0a-4796-862b-372bf35e493a",
   "metadata": {},
   "outputs": [],
   "source": [
    "# create variable for columns I want to drop for model\n",
    "drop_cols = ['senior_citizen', 'total_charges', 'gender_Male', 'partner_Yes', 'dependents_Yes', 'phone_service_Yes'\n",
    "            , 'multiple_lines_No phone service', 'multiple_lines_Yes', 'online_security_No internet service'\n",
    "            , 'online_security_Yes', 'online_backup_No internet service', 'online_backup_Yes'\n",
    "            , 'device_protection_No internet service', 'device_protection_Yes', 'streaming_tv_No internet service'\n",
    "            , 'streaming_tv_Yes', 'streaming_movies_No internet service', 'streaming_movies_Yes'\n",
    "            , 'paperless_billing_Yes', 'payment_type_Credit card (automatic)'\n",
    "            , 'payment_type_Electronic check', 'payment_type_Mailed check']"
   ]
  },
  {
   "cell_type": "code",
   "execution_count": 82,
   "id": "14e599bd-8fb9-4fba-bdeb-f09ef6340240",
   "metadata": {},
   "outputs": [],
   "source": [
    "# create function to initiate X_y train, validate, test\n",
    "def xy_train_val(train, validate, test, target_variable, drop_cols):\n",
    "    \"\"\"\n",
    "    input train, validate, test, after using split function()\n",
    "    input target_variable as string\n",
    "    drop_cols formatted as: ['col1', 'col2', 'etc'] for multiple columns\n",
    "        This function will drop all 'object' columns. Identify additional \n",
    "        columns you want to drop and insert 1 column as a string or multiple\n",
    "        columns in a list of strings.\n",
    "    X_train, X_validate, X_test, y_train, y_validate, y_test\n",
    "    \"\"\"\n",
    "    \n",
    "    baseline_accuracy = train[target_variable].value_counts().max() / train[target_variable].value_counts().sum()\n",
    "    print(f'Baseline Accuracy: {baseline_accuracy:.2%}')\n",
    "    \n",
    "    X_train = train.select_dtypes(exclude=['object']).drop(columns=[target_variable]).drop(columns=drop_cols)\n",
    "    X_validate = validate.select_dtypes(exclude=['object']).drop(columns=[target_variable]).drop(columns=drop_cols)\n",
    "    X_test = test.select_dtypes(exclude=['object']).drop(columns=[target_variable]).drop(columns=drop_cols)\n",
    "    \n",
    "    y_train = train[target_variable]\n",
    "    y_validate = validate[target_variable]\n",
    "    y_test = test[target_variable]\n",
    "    \n",
    "    return X_train, X_validate, X_test, y_train, y_validate, y_test"
   ]
  },
  {
   "cell_type": "code",
   "execution_count": 83,
   "id": "638d720e-0860-47f2-b438-0c8be9971c43",
   "metadata": {},
   "outputs": [
    {
     "name": "stdout",
     "output_type": "stream",
     "text": [
      "Baseline Accuracy: 73.47%\n"
     ]
    }
   ],
   "source": [
    "# utilize function and save variables for first model\n",
    "X_train, X_validate, X_test, y_train, y_validate, y_test = xy_train_val(train, validate, test, 'churn_Yes', drop_cols)"
   ]
  },
  {
   "cell_type": "code",
   "execution_count": 85,
   "id": "ad81a505-9d15-4ca5-b1ed-37d26c195726",
   "metadata": {},
   "outputs": [
    {
     "data": {
      "text/html": [
       "<div>\n",
       "<style scoped>\n",
       "    .dataframe tbody tr th:only-of-type {\n",
       "        vertical-align: middle;\n",
       "    }\n",
       "\n",
       "    .dataframe tbody tr th {\n",
       "        vertical-align: top;\n",
       "    }\n",
       "\n",
       "    .dataframe thead th {\n",
       "        text-align: right;\n",
       "    }\n",
       "</style>\n",
       "<table border=\"1\" class=\"dataframe\">\n",
       "  <thead>\n",
       "    <tr style=\"text-align: right;\">\n",
       "      <th></th>\n",
       "      <th>tenure</th>\n",
       "      <th>monthly_charges</th>\n",
       "      <th>tech_support_No internet service</th>\n",
       "      <th>tech_support_Yes</th>\n",
       "      <th>contract_type_One year</th>\n",
       "      <th>contract_type_Two year</th>\n",
       "      <th>internet_service_type_Fiber optic</th>\n",
       "      <th>internet_service_type_None</th>\n",
       "    </tr>\n",
       "  </thead>\n",
       "  <tbody>\n",
       "    <tr>\n",
       "      <th>5911</th>\n",
       "      <td>26</td>\n",
       "      <td>39.95</td>\n",
       "      <td>0</td>\n",
       "      <td>0</td>\n",
       "      <td>1</td>\n",
       "      <td>0</td>\n",
       "      <td>0</td>\n",
       "      <td>0</td>\n",
       "    </tr>\n",
       "    <tr>\n",
       "      <th>2479</th>\n",
       "      <td>47</td>\n",
       "      <td>26.90</td>\n",
       "      <td>1</td>\n",
       "      <td>0</td>\n",
       "      <td>1</td>\n",
       "      <td>0</td>\n",
       "      <td>0</td>\n",
       "      <td>1</td>\n",
       "    </tr>\n",
       "    <tr>\n",
       "      <th>5889</th>\n",
       "      <td>1</td>\n",
       "      <td>50.45</td>\n",
       "      <td>0</td>\n",
       "      <td>0</td>\n",
       "      <td>0</td>\n",
       "      <td>0</td>\n",
       "      <td>0</td>\n",
       "      <td>0</td>\n",
       "    </tr>\n",
       "    <tr>\n",
       "      <th>6087</th>\n",
       "      <td>69</td>\n",
       "      <td>60.05</td>\n",
       "      <td>0</td>\n",
       "      <td>1</td>\n",
       "      <td>0</td>\n",
       "      <td>1</td>\n",
       "      <td>0</td>\n",
       "      <td>0</td>\n",
       "    </tr>\n",
       "    <tr>\n",
       "      <th>785</th>\n",
       "      <td>51</td>\n",
       "      <td>87.55</td>\n",
       "      <td>0</td>\n",
       "      <td>0</td>\n",
       "      <td>1</td>\n",
       "      <td>0</td>\n",
       "      <td>1</td>\n",
       "      <td>0</td>\n",
       "    </tr>\n",
       "  </tbody>\n",
       "</table>\n",
       "</div>"
      ],
      "text/plain": [
       "      tenure  monthly_charges  tech_support_No internet service  \\\n",
       "5911      26            39.95                                 0   \n",
       "2479      47            26.90                                 1   \n",
       "5889       1            50.45                                 0   \n",
       "6087      69            60.05                                 0   \n",
       "785       51            87.55                                 0   \n",
       "\n",
       "      tech_support_Yes  contract_type_One year  contract_type_Two year  \\\n",
       "5911                 0                       1                       0   \n",
       "2479                 0                       1                       0   \n",
       "5889                 0                       0                       0   \n",
       "6087                 1                       0                       1   \n",
       "785                  0                       1                       0   \n",
       "\n",
       "      internet_service_type_Fiber optic  internet_service_type_None  \n",
       "5911                                  0                           0  \n",
       "2479                                  0                           1  \n",
       "5889                                  0                           0  \n",
       "6087                                  0                           0  \n",
       "785                                   1                           0  "
      ]
     },
     "execution_count": 85,
     "metadata": {},
     "output_type": "execute_result"
    }
   ],
   "source": [
    "# verify columns needed stayed and columns dropped appropriately\n",
    "X_train.head()"
   ]
  },
  {
   "cell_type": "code",
   "execution_count": 84,
   "id": "715dc771-d89c-48f0-a71e-01b605c36c4d",
   "metadata": {},
   "outputs": [
    {
     "data": {
      "text/plain": [
       "5911    0\n",
       "2479    0\n",
       "5889    1\n",
       "6087    0\n",
       "785     0\n",
       "Name: churn_Yes, dtype: uint8"
      ]
     },
     "execution_count": 84,
     "metadata": {},
     "output_type": "execute_result"
    }
   ],
   "source": [
    "# verify target variable saved as array\n",
    "y_train.head()"
   ]
  },
  {
   "cell_type": "code",
   "execution_count": 89,
   "id": "b1ae3856-ebcb-4998-aead-4d2c057d7add",
   "metadata": {},
   "outputs": [
    {
     "name": "stdout",
     "output_type": "stream",
     "text": [
      "Accuracy: 85.25%\n",
      "\n"
     ]
    }
   ],
   "source": [
    "# first iteration\n",
    "rf = RandomForestClassifier(random_state=123, min_samples_leaf=1, max_depth=10)\n",
    "rf.fit(X_train, y_train)\n",
    "y_pred = rf.predict(X_train)\n",
    "\n",
    "\n",
    "TN, FP, FN, TP = confusion_matrix(y_train, y_pred).ravel()\n",
    "all_ = (TP + TN + FP + FN)\n",
    "accuracy = (TP + TN) / all_\n",
    "print(f\"Accuracy: {accuracy:.2%}\\n\")"
   ]
  },
  {
   "cell_type": "code",
   "execution_count": 87,
   "id": "b9de628c-0da9-4e76-a26e-06c7f6653ed5",
   "metadata": {},
   "outputs": [
    {
     "data": {
      "image/png": "[encoded data removed]",
      "text/plain": [
       "<Figure size 1200x600 with 1 Axes>"
      ]
     },
     "metadata": {},
     "output_type": "display_data"
    },
    {
     "data": {
      "text/html": [
       "<div>\n",
       "<style scoped>\n",
       "    .dataframe tbody tr th:only-of-type {\n",
       "        vertical-align: middle;\n",
       "    }\n",
       "\n",
       "    .dataframe tbody tr th {\n",
       "        vertical-align: top;\n",
       "    }\n",
       "\n",
       "    .dataframe thead th {\n",
       "        text-align: right;\n",
       "    }\n",
       "</style>\n",
       "<table border=\"1\" class=\"dataframe\">\n",
       "  <thead>\n",
       "    <tr style=\"text-align: right;\">\n",
       "      <th></th>\n",
       "      <th>min_samples_leaf</th>\n",
       "      <th>max_depth</th>\n",
       "      <th>train_acc</th>\n",
       "      <th>val_acc</th>\n",
       "      <th>difference</th>\n",
       "    </tr>\n",
       "  </thead>\n",
       "  <tbody>\n",
       "    <tr>\n",
       "      <th>0</th>\n",
       "      <td>1</td>\n",
       "      <td>10</td>\n",
       "      <td>0.852544</td>\n",
       "      <td>0.799148</td>\n",
       "      <td>0.053396</td>\n",
       "    </tr>\n",
       "    <tr>\n",
       "      <th>1</th>\n",
       "      <td>2</td>\n",
       "      <td>9</td>\n",
       "      <td>0.822959</td>\n",
       "      <td>0.806246</td>\n",
       "      <td>0.016713</td>\n",
       "    </tr>\n",
       "    <tr>\n",
       "      <th>2</th>\n",
       "      <td>3</td>\n",
       "      <td>8</td>\n",
       "      <td>0.808284</td>\n",
       "      <td>0.804116</td>\n",
       "      <td>0.004168</td>\n",
       "    </tr>\n",
       "    <tr>\n",
       "      <th>3</th>\n",
       "      <td>4</td>\n",
       "      <td>7</td>\n",
       "      <td>0.801183</td>\n",
       "      <td>0.804826</td>\n",
       "      <td>-0.003643</td>\n",
       "    </tr>\n",
       "    <tr>\n",
       "      <th>4</th>\n",
       "      <td>5</td>\n",
       "      <td>6</td>\n",
       "      <td>0.797633</td>\n",
       "      <td>0.805536</td>\n",
       "      <td>-0.007903</td>\n",
       "    </tr>\n",
       "    <tr>\n",
       "      <th>5</th>\n",
       "      <td>6</td>\n",
       "      <td>5</td>\n",
       "      <td>0.795030</td>\n",
       "      <td>0.805536</td>\n",
       "      <td>-0.010506</td>\n",
       "    </tr>\n",
       "    <tr>\n",
       "      <th>6</th>\n",
       "      <td>7</td>\n",
       "      <td>4</td>\n",
       "      <td>0.786746</td>\n",
       "      <td>0.792761</td>\n",
       "      <td>-0.006015</td>\n",
       "    </tr>\n",
       "    <tr>\n",
       "      <th>7</th>\n",
       "      <td>8</td>\n",
       "      <td>3</td>\n",
       "      <td>0.785799</td>\n",
       "      <td>0.786373</td>\n",
       "      <td>-0.000574</td>\n",
       "    </tr>\n",
       "    <tr>\n",
       "      <th>8</th>\n",
       "      <td>9</td>\n",
       "      <td>2</td>\n",
       "      <td>0.734675</td>\n",
       "      <td>0.734564</td>\n",
       "      <td>0.000111</td>\n",
       "    </tr>\n",
       "    <tr>\n",
       "      <th>9</th>\n",
       "      <td>10</td>\n",
       "      <td>1</td>\n",
       "      <td>0.734675</td>\n",
       "      <td>0.734564</td>\n",
       "      <td>0.000111</td>\n",
       "    </tr>\n",
       "  </tbody>\n",
       "</table>\n",
       "</div>"
      ],
      "text/plain": [
       "   min_samples_leaf  max_depth  train_acc   val_acc  difference\n",
       "0                 1         10   0.852544  0.799148    0.053396\n",
       "1                 2          9   0.822959  0.806246    0.016713\n",
       "2                 3          8   0.808284  0.804116    0.004168\n",
       "3                 4          7   0.801183  0.804826   -0.003643\n",
       "4                 5          6   0.797633  0.805536   -0.007903\n",
       "5                 6          5   0.795030  0.805536   -0.010506\n",
       "6                 7          4   0.786746  0.792761   -0.006015\n",
       "7                 8          3   0.785799  0.786373   -0.000574\n",
       "8                 9          2   0.734675  0.734564    0.000111\n",
       "9                10          1   0.734675  0.734564    0.000111"
      ]
     },
     "execution_count": 87,
     "metadata": {},
     "output_type": "execute_result"
    }
   ],
   "source": [
    "# run loop to find best model accuracy\n",
    "scores_all = []\n",
    "for x in range(1,11):\n",
    "    rf = RandomForestClassifier(random_state=123, min_samples_leaf=x, max_depth=11-x)\n",
    "    rf.fit(X_train, y_train)\n",
    "    train_acc = rf.score(X_train, y_train)\n",
    "    val_acc = rf.score(X_validate, y_validate)\n",
    "    scores_all.append([x, 11-x, train_acc, val_acc])\n",
    "\n",
    "\n",
    "scores_df = pd.DataFrame(scores_all, columns=['min_samples_leaf', 'max_depth', 'train_acc', 'val_acc'])\n",
    "scores_df['difference'] = scores_df.train_acc - scores_df.val_acc\n",
    "\n",
    "\n",
    "\n",
    "plt.figure(figsize=(12,6))\n",
    "plt.plot(scores_df.max_depth, scores_df.train_acc, label='train', marker='o')\n",
    "plt.plot(scores_df.max_depth, scores_df.val_acc, label='validate', marker='o')\n",
    "plt.xlabel('max depth and min leaf sample')\n",
    "plt.ylabel('accuracy')\n",
    "\n",
    "plt.xticks([2,4,6,8,10],\n",
    "          [('2 and 9'),('4 and 7'),('6 and 5'),('8 and 3'),('10 and 1')]\n",
    "          )\n",
    "\n",
    "plt.title('how does the accuracy change with max depth on train and validate?')\n",
    "plt.legend()\n",
    "plt.show()\n",
    "scores_df"
   ]
  },
  {
   "cell_type": "code",
   "execution_count": 92,
   "id": "2ff7edad-c0d3-4ac6-ac7f-1328e2d5f42b",
   "metadata": {},
   "outputs": [
    {
     "name": "stdout",
     "output_type": "stream",
     "text": [
      "tenure 0.3585411124515877\n",
      "monthly_charges 0.19965702780668873\n",
      "internet_service_type_Fiber optic 0.12019996759127581\n",
      "contract_type_Two year 0.11187900925819831\n",
      "contract_type_One year 0.08286496873279385\n",
      "tech_support_Yes 0.04758159054448598\n",
      "internet_service_type_None 0.042574097883096726\n",
      "tech_support_No internet service 0.036702225731872866\n"
     ]
    }
   ],
   "source": [
    "for importance, name in sorted(zip(rf.feature_importances_, X_train.columns),reverse=True):\n",
    "    print (name, importance)"
   ]
  },
  {
   "cell_type": "markdown",
   "id": "83d556d5-0964-41c3-aa0e-b6d482852065",
   "metadata": {},
   "source": [
    "**Best Model for Random Forest**"
   ]
  },
  {
   "cell_type": "code",
   "execution_count": 90,
   "id": "bc070fe7-ccf5-4880-a15b-01ac67b8566c",
   "metadata": {},
   "outputs": [
    {
     "name": "stdout",
     "output_type": "stream",
     "text": [
      "Accuracy: 80.83%\n",
      "\n"
     ]
    }
   ],
   "source": [
    "# first iteration\n",
    "rf = RandomForestClassifier(random_state=123, min_samples_leaf=3, max_depth=8)\n",
    "rf.fit(X_train, y_train)\n",
    "y_pred = rf.predict(X_train)\n",
    "\n",
    "\n",
    "TN, FP, FN, TP = confusion_matrix(y_train, y_pred).ravel()\n",
    "all_ = (TP + TN + FP + FN)\n",
    "accuracy = (TP + TN) / all_\n",
    "print(f\"Accuracy: {accuracy:.2%}\\n\")"
   ]
  },
  {
   "cell_type": "code",
   "execution_count": 146,
   "id": "80d0c87a-dfff-4fb4-a4d5-77419c73cefb",
   "metadata": {},
   "outputs": [
    {
     "data": {
      "text/plain": [
       "0.8041163946061036"
      ]
     },
     "execution_count": 146,
     "metadata": {},
     "output_type": "execute_result"
    }
   ],
   "source": [
    "rf.score(X_validate, y_validate)"
   ]
  },
  {
   "cell_type": "markdown",
   "id": "21dbe4f6-53dc-4597-bdc7-9899dfb585dd",
   "metadata": {},
   "source": [
    "#### Decision Tree"
   ]
  },
  {
   "cell_type": "code",
   "execution_count": 91,
   "id": "4b713a43-a023-4ad7-b95a-07f36ed47ba9",
   "metadata": {},
   "outputs": [
    {
     "name": "stdout",
     "output_type": "stream",
     "text": [
      "Baseline Accuracy: 73.47%\n"
     ]
    }
   ],
   "source": [
    "#Calculate baseline accuracy\n",
    "baseline_accuracy = train[target_variable].value_counts().max() / train[target_variable].value_counts().sum()\n",
    "print(f'Baseline Accuracy: {baseline_accuracy:.2%}')"
   ]
  },
  {
   "cell_type": "code",
   "execution_count": null,
   "id": "005078e2-10a8-47ae-9e7e-0f24582d69ba",
   "metadata": {},
   "outputs": [],
   "source": []
  },
  {
   "cell_type": "code",
   "execution_count": null,
   "id": "2ef68510-0ea1-4092-8f4d-f712beb2f283",
   "metadata": {},
   "outputs": [],
   "source": []
  },
  {
   "cell_type": "code",
   "execution_count": 93,
   "id": "59e3a42a-ee65-412b-b6a1-c93f528a077e",
   "metadata": {},
   "outputs": [
    {
     "name": "stdout",
     "output_type": "stream",
     "text": [
      "Accuracy: 98.56%\n",
      "\n"
     ]
    }
   ],
   "source": [
    "# first iteration\n",
    "clf = DecisionTreeClassifier()\n",
    "clf.fit(X_train, y_train)\n",
    "y_pred = clf.predict(X_train)\n",
    "\n",
    "TN, FP, FN, TP = confusion_matrix(y_train, y_pred).ravel()\n",
    "all_ = (TP + TN + FP + FN)\n",
    "accuracy = (TP + TN) / all_\n",
    "print(f\"Accuracy: {accuracy:.2%}\\n\")"
   ]
  },
  {
   "cell_type": "markdown",
   "id": "90decf47-bd19-4814-8670-2a5863c42ac7",
   "metadata": {},
   "source": [
    "First iteration appears to overfit with high accuracy"
   ]
  },
  {
   "cell_type": "code",
   "execution_count": 98,
   "id": "11864ceb-03c0-4890-8678-72c8b88dd121",
   "metadata": {},
   "outputs": [
    {
     "data": {
      "image/png": "[encoded data removed]",
      "text/plain": [
       "<Figure size 1200x600 with 1 Axes>"
      ]
     },
     "metadata": {},
     "output_type": "display_data"
    },
    {
     "data": {
      "text/html": [
       "<div>\n",
       "<style scoped>\n",
       "    .dataframe tbody tr th:only-of-type {\n",
       "        vertical-align: middle;\n",
       "    }\n",
       "\n",
       "    .dataframe tbody tr th {\n",
       "        vertical-align: top;\n",
       "    }\n",
       "\n",
       "    .dataframe thead th {\n",
       "        text-align: right;\n",
       "    }\n",
       "</style>\n",
       "<table border=\"1\" class=\"dataframe\">\n",
       "  <thead>\n",
       "    <tr style=\"text-align: right;\">\n",
       "      <th></th>\n",
       "      <th>max_depth</th>\n",
       "      <th>train_acc</th>\n",
       "      <th>val_acc</th>\n",
       "      <th>difference</th>\n",
       "    </tr>\n",
       "  </thead>\n",
       "  <tbody>\n",
       "    <tr>\n",
       "      <th>0</th>\n",
       "      <td>1</td>\n",
       "      <td>0.734675</td>\n",
       "      <td>0.734564</td>\n",
       "      <td>0.000111</td>\n",
       "    </tr>\n",
       "    <tr>\n",
       "      <th>1</th>\n",
       "      <td>2</td>\n",
       "      <td>0.786982</td>\n",
       "      <td>0.792761</td>\n",
       "      <td>-0.005779</td>\n",
       "    </tr>\n",
       "    <tr>\n",
       "      <th>2</th>\n",
       "      <td>3</td>\n",
       "      <td>0.786982</td>\n",
       "      <td>0.792761</td>\n",
       "      <td>-0.005779</td>\n",
       "    </tr>\n",
       "    <tr>\n",
       "      <th>3</th>\n",
       "      <td>4</td>\n",
       "      <td>0.791716</td>\n",
       "      <td>0.804116</td>\n",
       "      <td>-0.012400</td>\n",
       "    </tr>\n",
       "    <tr>\n",
       "      <th>4</th>\n",
       "      <td>5</td>\n",
       "      <td>0.800237</td>\n",
       "      <td>0.799148</td>\n",
       "      <td>0.001088</td>\n",
       "    </tr>\n",
       "    <tr>\n",
       "      <th>5</th>\n",
       "      <td>6</td>\n",
       "      <td>0.808521</td>\n",
       "      <td>0.792761</td>\n",
       "      <td>0.015760</td>\n",
       "    </tr>\n",
       "    <tr>\n",
       "      <th>6</th>\n",
       "      <td>7</td>\n",
       "      <td>0.816095</td>\n",
       "      <td>0.784244</td>\n",
       "      <td>0.031851</td>\n",
       "    </tr>\n",
       "    <tr>\n",
       "      <th>7</th>\n",
       "      <td>8</td>\n",
       "      <td>0.826272</td>\n",
       "      <td>0.774308</td>\n",
       "      <td>0.051964</td>\n",
       "    </tr>\n",
       "    <tr>\n",
       "      <th>8</th>\n",
       "      <td>9</td>\n",
       "      <td>0.837160</td>\n",
       "      <td>0.775018</td>\n",
       "      <td>0.062142</td>\n",
       "    </tr>\n",
       "    <tr>\n",
       "      <th>9</th>\n",
       "      <td>10</td>\n",
       "      <td>0.854675</td>\n",
       "      <td>0.762952</td>\n",
       "      <td>0.091722</td>\n",
       "    </tr>\n",
       "    <tr>\n",
       "      <th>10</th>\n",
       "      <td>11</td>\n",
       "      <td>0.869112</td>\n",
       "      <td>0.757984</td>\n",
       "      <td>0.111128</td>\n",
       "    </tr>\n",
       "    <tr>\n",
       "      <th>11</th>\n",
       "      <td>12</td>\n",
       "      <td>0.886864</td>\n",
       "      <td>0.757275</td>\n",
       "      <td>0.129589</td>\n",
       "    </tr>\n",
       "    <tr>\n",
       "      <th>12</th>\n",
       "      <td>13</td>\n",
       "      <td>0.902722</td>\n",
       "      <td>0.753016</td>\n",
       "      <td>0.149706</td>\n",
       "    </tr>\n",
       "    <tr>\n",
       "      <th>13</th>\n",
       "      <td>14</td>\n",
       "      <td>0.915266</td>\n",
       "      <td>0.752307</td>\n",
       "      <td>0.162960</td>\n",
       "    </tr>\n",
       "    <tr>\n",
       "      <th>14</th>\n",
       "      <td>15</td>\n",
       "      <td>0.928994</td>\n",
       "      <td>0.750177</td>\n",
       "      <td>0.178817</td>\n",
       "    </tr>\n",
       "  </tbody>\n",
       "</table>\n",
       "</div>"
      ],
      "text/plain": [
       "    max_depth  train_acc   val_acc  difference\n",
       "0           1   0.734675  0.734564    0.000111\n",
       "1           2   0.786982  0.792761   -0.005779\n",
       "2           3   0.786982  0.792761   -0.005779\n",
       "3           4   0.791716  0.804116   -0.012400\n",
       "4           5   0.800237  0.799148    0.001088\n",
       "5           6   0.808521  0.792761    0.015760\n",
       "6           7   0.816095  0.784244    0.031851\n",
       "7           8   0.826272  0.774308    0.051964\n",
       "8           9   0.837160  0.775018    0.062142\n",
       "9          10   0.854675  0.762952    0.091722\n",
       "10         11   0.869112  0.757984    0.111128\n",
       "11         12   0.886864  0.757275    0.129589\n",
       "12         13   0.902722  0.753016    0.149706\n",
       "13         14   0.915266  0.752307    0.162960\n",
       "14         15   0.928994  0.750177    0.178817"
      ]
     },
     "execution_count": 98,
     "metadata": {},
     "output_type": "execute_result"
    }
   ],
   "source": [
    "# run loop to find best model accuracy\n",
    "scores_all = []\n",
    "for x in range(1,16):\n",
    "    clf = DecisionTreeClassifier(max_depth=x)\n",
    "    clf.fit(X_train, y_train)\n",
    "    train_acc = clf.score(X_train, y_train)\n",
    "    val_acc = clf.score(X_validate, y_validate)\n",
    "    scores_all.append([x, train_acc, val_acc])\n",
    "\n",
    "\n",
    "scores_df = pd.DataFrame(scores_all, columns=['max_depth', 'train_acc', 'val_acc'])\n",
    "scores_df['difference'] = scores_df.train_acc - scores_df.val_acc\n",
    "\n",
    "\n",
    "\n",
    "plt.figure(figsize=(12,6))\n",
    "plt.plot(scores_df.max_depth, scores_df.train_acc, label='train', marker='o')\n",
    "plt.plot(scores_df.max_depth, scores_df.val_acc, label='validate', marker='o')\n",
    "plt.xlabel('max depth')\n",
    "plt.ylabel('accuracy')\n",
    "\n",
    "plt.xticks([1,2,3,4,5,6,7,8,9,10,11,12,13,14,15])\n",
    "\n",
    "plt.title('how does the accuracy change with max depth on train and validate?')\n",
    "plt.legend()\n",
    "plt.show()\n",
    "scores_df"
   ]
  },
  {
   "cell_type": "code",
   "execution_count": 100,
   "id": "86657603-ace9-4e2f-9525-d21c2439d6c7",
   "metadata": {},
   "outputs": [
    {
     "name": "stdout",
     "output_type": "stream",
     "text": [
      "tenure 0.5200224068566701\n",
      "internet_service_type_Fiber optic 0.34126665515825594\n",
      "contract_type_One year 0.03873574180364324\n",
      "monthly_charges 0.026168627885213496\n",
      "tech_support_No internet service 0.021402387737185984\n",
      "internet_service_type_None 0.01856751799159292\n",
      "contract_type_Two year 0.01856614294696628\n",
      "tech_support_Yes 0.015270519620472007\n"
     ]
    }
   ],
   "source": [
    "for importance, name in sorted(zip(clf.feature_importances_, X_train.columns),reverse=True):\n",
    "    print (name, importance)"
   ]
  },
  {
   "cell_type": "markdown",
   "id": "41ebc9d0-5b5d-43cb-b15c-37eaf8a9cb67",
   "metadata": {},
   "source": [
    "**Best Model for Decision Tree**"
   ]
  },
  {
   "cell_type": "code",
   "execution_count": 144,
   "id": "b2546d3c-98bc-47fa-9c2c-d3f0b7241c7c",
   "metadata": {},
   "outputs": [
    {
     "name": "stdout",
     "output_type": "stream",
     "text": [
      "Accuracy: 80.02%\n",
      "\n"
     ]
    }
   ],
   "source": [
    "clf = DecisionTreeClassifier(max_depth=5)\n",
    "clf.fit(X_train, y_train)\n",
    "y_pred = clf.predict(X_train)\n",
    "\n",
    "TN, FP, FN, TP = confusion_matrix(y_train, y_pred).ravel()\n",
    "all_ = (TP + TN + FP + FN)\n",
    "accuracy = (TP + TN) / all_\n",
    "print(f\"Accuracy: {accuracy:.2%}\\n\")"
   ]
  },
  {
   "cell_type": "code",
   "execution_count": 145,
   "id": "6f9f4110-6c78-4641-acc4-0ba533999245",
   "metadata": {},
   "outputs": [
    {
     "data": {
      "text/plain": [
       "0.7991483321504613"
      ]
     },
     "execution_count": 145,
     "metadata": {},
     "output_type": "execute_result"
    }
   ],
   "source": [
    "clf.score(X_validate, y_validate)"
   ]
  },
  {
   "cell_type": "markdown",
   "id": "645ac164-94f2-46f7-ab58-667ddbd46716",
   "metadata": {},
   "source": [
    "#### Logistic Regression"
   ]
  },
  {
   "cell_type": "code",
   "execution_count": 101,
   "id": "9e2c5b6a-4470-4e9b-a410-da5408e9cb56",
   "metadata": {},
   "outputs": [
    {
     "name": "stdout",
     "output_type": "stream",
     "text": [
      "Baseline Accuracy: 73.47%\n"
     ]
    }
   ],
   "source": [
    "#Calculate baseline accuracy\n",
    "baseline_accuracy = train[target_variable].value_counts().max() / train[target_variable].value_counts().sum()\n",
    "print(f'Baseline Accuracy: {baseline_accuracy:.2%}')"
   ]
  },
  {
   "cell_type": "markdown",
   "id": "c62d6caf-ad4d-47c1-a309-b67c1b77c4cf",
   "metadata": {},
   "source": [
    "**Best Model for Logistic Regression**"
   ]
  },
  {
   "cell_type": "code",
   "execution_count": 102,
   "id": "9bf76aa4-00ec-405d-b233-6e75e44e1869",
   "metadata": {},
   "outputs": [
    {
     "name": "stdout",
     "output_type": "stream",
     "text": [
      "Accuracy: 78.51%\n",
      "\n"
     ]
    },
    {
     "name": "stderr",
     "output_type": "stream",
     "text": [
      "/opt/homebrew/anaconda3/lib/python3.9/site-packages/sklearn/linear_model/_logistic.py:444: ConvergenceWarning: lbfgs failed to converge (status=1):\n",
      "STOP: TOTAL NO. of ITERATIONS REACHED LIMIT.\n",
      "\n",
      "Increase the number of iterations (max_iter) or scale the data as shown in:\n",
      "    https://scikit-learn.org/stable/modules/preprocessing.html\n",
      "Please also refer to the documentation for alternative solver options:\n",
      "    https://scikit-learn.org/stable/modules/linear_model.html#logistic-regression\n",
      "  n_iter_i = _check_optimize_result(\n"
     ]
    }
   ],
   "source": [
    "logit = LogisticRegression()\n",
    "logit.fit(X_train, y_train)\n",
    "y_pred = logit.predict(X_train)\n",
    "\n",
    "TN, FP, FN, TP = confusion_matrix(y_train, y_pred).ravel()\n",
    "all_ = (TP + TN + FP + FN)\n",
    "accuracy = (TP + TN) / all_\n",
    "print(f\"Accuracy: {accuracy:.2%}\\n\")"
   ]
  },
  {
   "cell_type": "code",
   "execution_count": 143,
   "id": "490ee33d-31ca-463d-86a1-d58b1fc7a5c4",
   "metadata": {},
   "outputs": [
    {
     "data": {
      "text/plain": [
       "0.7977288857345636"
      ]
     },
     "execution_count": 143,
     "metadata": {},
     "output_type": "execute_result"
    }
   ],
   "source": [
    "logit.score(X_validate, y_validate)"
   ]
  },
  {
   "cell_type": "code",
   "execution_count": 105,
   "id": "48144b90-d1ce-4f3f-b90e-c9c9d7299f2d",
   "metadata": {},
   "outputs": [
    {
     "data": {
      "text/html": [
       "<div>\n",
       "<style scoped>\n",
       "    .dataframe tbody tr th:only-of-type {\n",
       "        vertical-align: middle;\n",
       "    }\n",
       "\n",
       "    .dataframe tbody tr th {\n",
       "        vertical-align: top;\n",
       "    }\n",
       "\n",
       "    .dataframe thead th {\n",
       "        text-align: right;\n",
       "    }\n",
       "</style>\n",
       "<table border=\"1\" class=\"dataframe\">\n",
       "  <thead>\n",
       "    <tr style=\"text-align: right;\">\n",
       "      <th></th>\n",
       "      <th>tenure</th>\n",
       "      <th>monthly_charges</th>\n",
       "      <th>tech_support_No internet service</th>\n",
       "      <th>tech_support_Yes</th>\n",
       "      <th>contract_type_One year</th>\n",
       "      <th>contract_type_Two year</th>\n",
       "      <th>internet_service_type_Fiber optic</th>\n",
       "      <th>internet_service_type_None</th>\n",
       "    </tr>\n",
       "  </thead>\n",
       "  <tbody>\n",
       "    <tr>\n",
       "      <th>5911</th>\n",
       "      <td>26</td>\n",
       "      <td>39.95</td>\n",
       "      <td>0</td>\n",
       "      <td>0</td>\n",
       "      <td>1</td>\n",
       "      <td>0</td>\n",
       "      <td>0</td>\n",
       "      <td>0</td>\n",
       "    </tr>\n",
       "    <tr>\n",
       "      <th>2479</th>\n",
       "      <td>47</td>\n",
       "      <td>26.90</td>\n",
       "      <td>1</td>\n",
       "      <td>0</td>\n",
       "      <td>1</td>\n",
       "      <td>0</td>\n",
       "      <td>0</td>\n",
       "      <td>1</td>\n",
       "    </tr>\n",
       "    <tr>\n",
       "      <th>5889</th>\n",
       "      <td>1</td>\n",
       "      <td>50.45</td>\n",
       "      <td>0</td>\n",
       "      <td>0</td>\n",
       "      <td>0</td>\n",
       "      <td>0</td>\n",
       "      <td>0</td>\n",
       "      <td>0</td>\n",
       "    </tr>\n",
       "    <tr>\n",
       "      <th>6087</th>\n",
       "      <td>69</td>\n",
       "      <td>60.05</td>\n",
       "      <td>0</td>\n",
       "      <td>1</td>\n",
       "      <td>0</td>\n",
       "      <td>1</td>\n",
       "      <td>0</td>\n",
       "      <td>0</td>\n",
       "    </tr>\n",
       "    <tr>\n",
       "      <th>785</th>\n",
       "      <td>51</td>\n",
       "      <td>87.55</td>\n",
       "      <td>0</td>\n",
       "      <td>0</td>\n",
       "      <td>1</td>\n",
       "      <td>0</td>\n",
       "      <td>1</td>\n",
       "      <td>0</td>\n",
       "    </tr>\n",
       "  </tbody>\n",
       "</table>\n",
       "</div>"
      ],
      "text/plain": [
       "      tenure  monthly_charges  tech_support_No internet service  \\\n",
       "5911      26            39.95                                 0   \n",
       "2479      47            26.90                                 1   \n",
       "5889       1            50.45                                 0   \n",
       "6087      69            60.05                                 0   \n",
       "785       51            87.55                                 0   \n",
       "\n",
       "      tech_support_Yes  contract_type_One year  contract_type_Two year  \\\n",
       "5911                 0                       1                       0   \n",
       "2479                 0                       1                       0   \n",
       "5889                 0                       0                       0   \n",
       "6087                 1                       0                       1   \n",
       "785                  0                       1                       0   \n",
       "\n",
       "      internet_service_type_Fiber optic  internet_service_type_None  \n",
       "5911                                  0                           0  \n",
       "2479                                  0                           1  \n",
       "5889                                  0                           0  \n",
       "6087                                  0                           0  \n",
       "785                                   1                           0  "
      ]
     },
     "execution_count": 105,
     "metadata": {},
     "output_type": "execute_result"
    }
   ],
   "source": [
    "X_train.head()"
   ]
  },
  {
   "cell_type": "code",
   "execution_count": 106,
   "id": "a9febb13-4ad8-4dfc-a9a2-04b6bce9fb16",
   "metadata": {},
   "outputs": [],
   "source": [
    "features = ['tenure', 'monthly_charges', 'contract_type_One year', 'contract_type_Two year'\n",
    "            , 'internet_service_type_Fiber optic', 'internet_service_type_None']"
   ]
  },
  {
   "cell_type": "code",
   "execution_count": 108,
   "id": "1f5a20b6-4c92-473c-ad2b-a19399565133",
   "metadata": {},
   "outputs": [
    {
     "data": {
      "text/html": [
       "<div>\n",
       "<style scoped>\n",
       "    .dataframe tbody tr th:only-of-type {\n",
       "        vertical-align: middle;\n",
       "    }\n",
       "\n",
       "    .dataframe tbody tr th {\n",
       "        vertical-align: top;\n",
       "    }\n",
       "\n",
       "    .dataframe thead th {\n",
       "        text-align: right;\n",
       "    }\n",
       "</style>\n",
       "<table border=\"1\" class=\"dataframe\">\n",
       "  <thead>\n",
       "    <tr style=\"text-align: right;\">\n",
       "      <th></th>\n",
       "      <th>tenure</th>\n",
       "      <th>monthly_charges</th>\n",
       "      <th>contract_type_One year</th>\n",
       "      <th>contract_type_Two year</th>\n",
       "      <th>internet_service_type_Fiber optic</th>\n",
       "      <th>internet_service_type_None</th>\n",
       "    </tr>\n",
       "  </thead>\n",
       "  <tbody>\n",
       "    <tr>\n",
       "      <th>5911</th>\n",
       "      <td>26</td>\n",
       "      <td>39.95</td>\n",
       "      <td>1</td>\n",
       "      <td>0</td>\n",
       "      <td>0</td>\n",
       "      <td>0</td>\n",
       "    </tr>\n",
       "    <tr>\n",
       "      <th>2479</th>\n",
       "      <td>47</td>\n",
       "      <td>26.90</td>\n",
       "      <td>1</td>\n",
       "      <td>0</td>\n",
       "      <td>0</td>\n",
       "      <td>1</td>\n",
       "    </tr>\n",
       "    <tr>\n",
       "      <th>5889</th>\n",
       "      <td>1</td>\n",
       "      <td>50.45</td>\n",
       "      <td>0</td>\n",
       "      <td>0</td>\n",
       "      <td>0</td>\n",
       "      <td>0</td>\n",
       "    </tr>\n",
       "    <tr>\n",
       "      <th>6087</th>\n",
       "      <td>69</td>\n",
       "      <td>60.05</td>\n",
       "      <td>0</td>\n",
       "      <td>1</td>\n",
       "      <td>0</td>\n",
       "      <td>0</td>\n",
       "    </tr>\n",
       "    <tr>\n",
       "      <th>785</th>\n",
       "      <td>51</td>\n",
       "      <td>87.55</td>\n",
       "      <td>1</td>\n",
       "      <td>0</td>\n",
       "      <td>1</td>\n",
       "      <td>0</td>\n",
       "    </tr>\n",
       "  </tbody>\n",
       "</table>\n",
       "</div>"
      ],
      "text/plain": [
       "      tenure  monthly_charges  contract_type_One year  contract_type_Two year  \\\n",
       "5911      26            39.95                       1                       0   \n",
       "2479      47            26.90                       1                       0   \n",
       "5889       1            50.45                       0                       0   \n",
       "6087      69            60.05                       0                       1   \n",
       "785       51            87.55                       1                       0   \n",
       "\n",
       "      internet_service_type_Fiber optic  internet_service_type_None  \n",
       "5911                                  0                           0  \n",
       "2479                                  0                           1  \n",
       "5889                                  0                           0  \n",
       "6087                                  0                           0  \n",
       "785                                   1                           0  "
      ]
     },
     "execution_count": 108,
     "metadata": {},
     "output_type": "execute_result"
    }
   ],
   "source": [
    "X_train[features].head()"
   ]
  },
  {
   "cell_type": "code",
   "execution_count": 109,
   "id": "3e37d8f2-e572-4f59-bb8f-b4e01f8db3e0",
   "metadata": {},
   "outputs": [
    {
     "name": "stdout",
     "output_type": "stream",
     "text": [
      "Accuracy: 78.34%\n",
      "\n"
     ]
    }
   ],
   "source": [
    "logit2 = LogisticRegression()\n",
    "logit2.fit(X_train[features], y_train)\n",
    "y_pred = logit2.predict(X_train[features])\n",
    "\n",
    "TN, FP, FN, TP = confusion_matrix(y_train, y_pred).ravel()\n",
    "all_ = (TP + TN + FP + FN)\n",
    "accuracy = (TP + TN) / all_\n",
    "print(f\"Accuracy: {accuracy:.2%}\\n\")"
   ]
  },
  {
   "cell_type": "code",
   "execution_count": null,
   "id": "9c3a1ebb-f7ad-477d-af90-0c15df514244",
   "metadata": {},
   "outputs": [],
   "source": []
  },
  {
   "cell_type": "markdown",
   "id": "bc5884ea-9e47-4140-a827-0ce63052a9b7",
   "metadata": {},
   "source": [
    "### Model Summary"
   ]
  },
  {
   "cell_type": "markdown",
   "id": "4115fbec-8b8c-4fdd-b7ea-07bd7ad5570f",
   "metadata": {},
   "source": [
    "Decision Tree, Random Forest, and Logistic Regression models all performed above baseline on train and validate.  \n",
    "Random Forest and Decision Tree both scored ~80% on train and validate with Random Forest having slightly higher scores on both.  \n",
    "Logistic Regression model selected as the final model and had an accuracy of ~78.5% which was below both Random Forest and Decision Tree but above baseline."
   ]
  },
  {
   "cell_type": "markdown",
   "id": "b5b779ad-64df-4f6b-867f-0052885ace35",
   "metadata": {},
   "source": [
    "### Conclusions"
   ]
  },
  {
   "cell_type": "markdown",
   "id": "7faee9a5-0e54-4583-8d6f-8bb23ffb0c9d",
   "metadata": {},
   "source": [
    "#### Exploration  \n",
    "- Identified and verified 4 **key drivers** of churn:\n",
    "    - Monthly charges\n",
    "    - Tenure\n",
    "    - Internet service type (i.e. DSL, Fiber optic, None)\n",
    "    - Contract type (i.e. Month-to-month, 1 year, 2 year)\n",
    "<br>\n",
    "<br>\n",
    "- Prioritized these key drivers in my modeling stage"
   ]
  },
  {
   "cell_type": "markdown",
   "id": "2a9a9def-60ed-4d88-910c-4e4df681efa2",
   "metadata": {},
   "source": [
    "#### Modeling\n",
    "\n",
    "Final model performed above baseline and had a Test accuracry of (insert here)"
   ]
  },
  {
   "cell_type": "markdown",
   "id": "6e7d437e-ed05-4a85-9216-d198b8fde9e0",
   "metadata": {},
   "source": [
    "#### Recommendations\n",
    "\n"
   ]
  },
  {
   "cell_type": "code",
   "execution_count": null,
   "id": "f8d2fbd3-90e7-4be5-a8c9-a0d550327f6f",
   "metadata": {},
   "outputs": [],
   "source": []
  },
  {
   "cell_type": "code",
   "execution_count": null,
   "id": "397e6a16-5a2f-46a1-b3a5-da1cf983d01a",
   "metadata": {},
   "outputs": [],
   "source": []
  }
 ],
 "metadata": {
  "kernelspec": {
   "display_name": "Python 3 (ipykernel)",
   "language": "python",
   "name": "python3"
  },
  "language_info": {
   "codemirror_mode": {
    "name": "ipython",
    "version": 3
   },
   "file_extension": ".py",
   "mimetype": "text/x-python",
   "name": "python",
   "nbconvert_exporter": "python",
   "pygments_lexer": "ipython3",
   "version": "3.9.13"
  }
 },
 "nbformat": 4,
 "nbformat_minor": 5
}
