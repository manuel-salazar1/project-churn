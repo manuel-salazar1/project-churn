{
 "cells": [
  {
   "cell_type": "markdown",
   "id": "6e05d5ef-838c-4c8b-a88c-00f685080251",
   "metadata": {},
   "source": [
    "# Operation churn"
   ]
  },
  {
   "cell_type": "markdown",
   "id": "6f2ae2bb-fd1c-4340-8e40-88fbb3070b22",
   "metadata": {},
   "source": [
    "### Imports"
   ]
  },
  {
   "cell_type": "code",
   "execution_count": 1,
   "id": "e0602da0-2e94-4202-895c-79d6f044f002",
   "metadata": {},
   "outputs": [],
   "source": [
    "import pandas as pd\n",
    "import numpy as np\n",
    "\n",
    "\n",
    "from sklearn.model_selection import train_test_split\n",
    "from sklearn.tree import DecisionTreeClassifier, plot_tree\n",
    "from sklearn.ensemble import RandomForestClassifier\n",
    "from sklearn.neighbors import KNeighborsClassifier\n",
    "from sklearn.linear_model import LogisticRegression\n",
    "from sklearn.metrics import classification_report, confusion_matrix, plot_confusion_matrix\n",
    "\n",
    "import matplotlib.pyplot as plt\n",
    "import seaborn as sns\n",
    "\n",
    "import acquire\n",
    "import prepare"
   ]
  },
  {
   "cell_type": "code",
   "execution_count": 46,
   "id": "053fa311-27fa-4f91-8b05-e47ecc4de113",
   "metadata": {},
   "outputs": [],
   "source": [
    "import scipy.stats as stats"
   ]
  },
  {
   "cell_type": "markdown",
   "id": "b55d41cc-acf6-4b5a-acc2-ead4ff6bd0f3",
   "metadata": {},
   "source": [
    "### Acquire"
   ]
  },
  {
   "cell_type": "markdown",
   "id": "1ebf0750-a4bb-49a7-a528-9f44db3355af",
   "metadata": {},
   "source": [
    "Data was acquired from telco_churn database provided by Codeup  \n",
    "Database consists of 7,043 rows and 24 columns  \n",
    "No null values observed at this point  \n",
    "Total charges dtype is object, will have to convert to float during prep  "
   ]
  },
  {
   "cell_type": "code",
   "execution_count": 3,
   "id": "5aff7d4f-7556-4bab-a4b9-9c68679695b4",
   "metadata": {},
   "outputs": [
    {
     "name": "stdout",
     "output_type": "stream",
     "text": [
      "Found CSV\n"
     ]
    }
   ],
   "source": [
    "df = acquire.get_telco_data()"
   ]
  },
  {
   "cell_type": "code",
   "execution_count": 4,
   "id": "0692c734-d042-4a6b-9184-18d1db58ccd0",
   "metadata": {},
   "outputs": [
    {
     "data": {
      "text/plain": [
       "(7043, 24)"
      ]
     },
     "execution_count": 4,
     "metadata": {},
     "output_type": "execute_result"
    }
   ],
   "source": [
    "df.shape"
   ]
  },
  {
   "cell_type": "code",
   "execution_count": 6,
   "id": "6805e672-77ff-450d-b49a-451c5f0185d1",
   "metadata": {},
   "outputs": [
    {
     "name": "stdout",
     "output_type": "stream",
     "text": [
      "<class 'pandas.core.frame.DataFrame'>\n",
      "Int64Index: 7043 entries, 0 to 7042\n",
      "Data columns (total 24 columns):\n",
      " #   Column                    Non-Null Count  Dtype  \n",
      "---  ------                    --------------  -----  \n",
      " 0   payment_type_id           7043 non-null   int64  \n",
      " 1   internet_service_type_id  7043 non-null   int64  \n",
      " 2   contract_type_id          7043 non-null   int64  \n",
      " 3   customer_id               7043 non-null   object \n",
      " 4   gender                    7043 non-null   object \n",
      " 5   senior_citizen            7043 non-null   int64  \n",
      " 6   partner                   7043 non-null   object \n",
      " 7   dependents                7043 non-null   object \n",
      " 8   tenure                    7043 non-null   int64  \n",
      " 9   phone_service             7043 non-null   object \n",
      " 10  multiple_lines            7043 non-null   object \n",
      " 11  online_security           7043 non-null   object \n",
      " 12  online_backup             7043 non-null   object \n",
      " 13  device_protection         7043 non-null   object \n",
      " 14  tech_support              7043 non-null   object \n",
      " 15  streaming_tv              7043 non-null   object \n",
      " 16  streaming_movies          7043 non-null   object \n",
      " 17  paperless_billing         7043 non-null   object \n",
      " 18  monthly_charges           7043 non-null   float64\n",
      " 19  total_charges             7043 non-null   object \n",
      " 20  churn                     7043 non-null   object \n",
      " 21  contract_type             7043 non-null   object \n",
      " 22  internet_service_type     7043 non-null   object \n",
      " 23  payment_type              7043 non-null   object \n",
      "dtypes: float64(1), int64(5), object(18)\n",
      "memory usage: 1.3+ MB\n"
     ]
    }
   ],
   "source": [
    "df.info()"
   ]
  },
  {
   "cell_type": "code",
   "execution_count": 8,
   "id": "3708d81b-9837-4b31-bdbd-79e8866f3f0a",
   "metadata": {},
   "outputs": [
    {
     "data": {
      "text/html": [
       "<div>\n",
       "<style scoped>\n",
       "    .dataframe tbody tr th:only-of-type {\n",
       "        vertical-align: middle;\n",
       "    }\n",
       "\n",
       "    .dataframe tbody tr th {\n",
       "        vertical-align: top;\n",
       "    }\n",
       "\n",
       "    .dataframe thead th {\n",
       "        text-align: right;\n",
       "    }\n",
       "</style>\n",
       "<table border=\"1\" class=\"dataframe\">\n",
       "  <thead>\n",
       "    <tr style=\"text-align: right;\">\n",
       "      <th></th>\n",
       "      <th>0</th>\n",
       "      <th>1</th>\n",
       "      <th>2</th>\n",
       "      <th>3</th>\n",
       "      <th>4</th>\n",
       "    </tr>\n",
       "  </thead>\n",
       "  <tbody>\n",
       "    <tr>\n",
       "      <th>payment_type_id</th>\n",
       "      <td>2</td>\n",
       "      <td>2</td>\n",
       "      <td>1</td>\n",
       "      <td>1</td>\n",
       "      <td>2</td>\n",
       "    </tr>\n",
       "    <tr>\n",
       "      <th>internet_service_type_id</th>\n",
       "      <td>1</td>\n",
       "      <td>1</td>\n",
       "      <td>2</td>\n",
       "      <td>2</td>\n",
       "      <td>2</td>\n",
       "    </tr>\n",
       "    <tr>\n",
       "      <th>contract_type_id</th>\n",
       "      <td>2</td>\n",
       "      <td>1</td>\n",
       "      <td>1</td>\n",
       "      <td>1</td>\n",
       "      <td>1</td>\n",
       "    </tr>\n",
       "    <tr>\n",
       "      <th>customer_id</th>\n",
       "      <td>0002-ORFBO</td>\n",
       "      <td>0003-MKNFE</td>\n",
       "      <td>0004-TLHLJ</td>\n",
       "      <td>0011-IGKFF</td>\n",
       "      <td>0013-EXCHZ</td>\n",
       "    </tr>\n",
       "    <tr>\n",
       "      <th>gender</th>\n",
       "      <td>Female</td>\n",
       "      <td>Male</td>\n",
       "      <td>Male</td>\n",
       "      <td>Male</td>\n",
       "      <td>Female</td>\n",
       "    </tr>\n",
       "    <tr>\n",
       "      <th>senior_citizen</th>\n",
       "      <td>0</td>\n",
       "      <td>0</td>\n",
       "      <td>0</td>\n",
       "      <td>1</td>\n",
       "      <td>1</td>\n",
       "    </tr>\n",
       "    <tr>\n",
       "      <th>partner</th>\n",
       "      <td>Yes</td>\n",
       "      <td>No</td>\n",
       "      <td>No</td>\n",
       "      <td>Yes</td>\n",
       "      <td>Yes</td>\n",
       "    </tr>\n",
       "    <tr>\n",
       "      <th>dependents</th>\n",
       "      <td>Yes</td>\n",
       "      <td>No</td>\n",
       "      <td>No</td>\n",
       "      <td>No</td>\n",
       "      <td>No</td>\n",
       "    </tr>\n",
       "    <tr>\n",
       "      <th>tenure</th>\n",
       "      <td>9</td>\n",
       "      <td>9</td>\n",
       "      <td>4</td>\n",
       "      <td>13</td>\n",
       "      <td>3</td>\n",
       "    </tr>\n",
       "    <tr>\n",
       "      <th>phone_service</th>\n",
       "      <td>Yes</td>\n",
       "      <td>Yes</td>\n",
       "      <td>Yes</td>\n",
       "      <td>Yes</td>\n",
       "      <td>Yes</td>\n",
       "    </tr>\n",
       "    <tr>\n",
       "      <th>multiple_lines</th>\n",
       "      <td>No</td>\n",
       "      <td>Yes</td>\n",
       "      <td>No</td>\n",
       "      <td>No</td>\n",
       "      <td>No</td>\n",
       "    </tr>\n",
       "    <tr>\n",
       "      <th>online_security</th>\n",
       "      <td>No</td>\n",
       "      <td>No</td>\n",
       "      <td>No</td>\n",
       "      <td>No</td>\n",
       "      <td>No</td>\n",
       "    </tr>\n",
       "    <tr>\n",
       "      <th>online_backup</th>\n",
       "      <td>Yes</td>\n",
       "      <td>No</td>\n",
       "      <td>No</td>\n",
       "      <td>Yes</td>\n",
       "      <td>No</td>\n",
       "    </tr>\n",
       "    <tr>\n",
       "      <th>device_protection</th>\n",
       "      <td>No</td>\n",
       "      <td>No</td>\n",
       "      <td>Yes</td>\n",
       "      <td>Yes</td>\n",
       "      <td>No</td>\n",
       "    </tr>\n",
       "    <tr>\n",
       "      <th>tech_support</th>\n",
       "      <td>Yes</td>\n",
       "      <td>No</td>\n",
       "      <td>No</td>\n",
       "      <td>No</td>\n",
       "      <td>Yes</td>\n",
       "    </tr>\n",
       "    <tr>\n",
       "      <th>streaming_tv</th>\n",
       "      <td>Yes</td>\n",
       "      <td>No</td>\n",
       "      <td>No</td>\n",
       "      <td>Yes</td>\n",
       "      <td>Yes</td>\n",
       "    </tr>\n",
       "    <tr>\n",
       "      <th>streaming_movies</th>\n",
       "      <td>No</td>\n",
       "      <td>Yes</td>\n",
       "      <td>No</td>\n",
       "      <td>Yes</td>\n",
       "      <td>No</td>\n",
       "    </tr>\n",
       "    <tr>\n",
       "      <th>paperless_billing</th>\n",
       "      <td>Yes</td>\n",
       "      <td>No</td>\n",
       "      <td>Yes</td>\n",
       "      <td>Yes</td>\n",
       "      <td>Yes</td>\n",
       "    </tr>\n",
       "    <tr>\n",
       "      <th>monthly_charges</th>\n",
       "      <td>65.6</td>\n",
       "      <td>59.9</td>\n",
       "      <td>73.9</td>\n",
       "      <td>98.0</td>\n",
       "      <td>83.9</td>\n",
       "    </tr>\n",
       "    <tr>\n",
       "      <th>total_charges</th>\n",
       "      <td>593.3</td>\n",
       "      <td>542.4</td>\n",
       "      <td>280.85</td>\n",
       "      <td>1237.85</td>\n",
       "      <td>267.4</td>\n",
       "    </tr>\n",
       "    <tr>\n",
       "      <th>churn</th>\n",
       "      <td>No</td>\n",
       "      <td>No</td>\n",
       "      <td>Yes</td>\n",
       "      <td>Yes</td>\n",
       "      <td>Yes</td>\n",
       "    </tr>\n",
       "    <tr>\n",
       "      <th>contract_type</th>\n",
       "      <td>One year</td>\n",
       "      <td>Month-to-month</td>\n",
       "      <td>Month-to-month</td>\n",
       "      <td>Month-to-month</td>\n",
       "      <td>Month-to-month</td>\n",
       "    </tr>\n",
       "    <tr>\n",
       "      <th>internet_service_type</th>\n",
       "      <td>DSL</td>\n",
       "      <td>DSL</td>\n",
       "      <td>Fiber optic</td>\n",
       "      <td>Fiber optic</td>\n",
       "      <td>Fiber optic</td>\n",
       "    </tr>\n",
       "    <tr>\n",
       "      <th>payment_type</th>\n",
       "      <td>Mailed check</td>\n",
       "      <td>Mailed check</td>\n",
       "      <td>Electronic check</td>\n",
       "      <td>Electronic check</td>\n",
       "      <td>Mailed check</td>\n",
       "    </tr>\n",
       "  </tbody>\n",
       "</table>\n",
       "</div>"
      ],
      "text/plain": [
       "                                     0               1                 2  \\\n",
       "payment_type_id                      2               2                 1   \n",
       "internet_service_type_id             1               1                 2   \n",
       "contract_type_id                     2               1                 1   \n",
       "customer_id                 0002-ORFBO      0003-MKNFE        0004-TLHLJ   \n",
       "gender                          Female            Male              Male   \n",
       "senior_citizen                       0               0                 0   \n",
       "partner                            Yes              No                No   \n",
       "dependents                         Yes              No                No   \n",
       "tenure                               9               9                 4   \n",
       "phone_service                      Yes             Yes               Yes   \n",
       "multiple_lines                      No             Yes                No   \n",
       "online_security                     No              No                No   \n",
       "online_backup                      Yes              No                No   \n",
       "device_protection                   No              No               Yes   \n",
       "tech_support                       Yes              No                No   \n",
       "streaming_tv                       Yes              No                No   \n",
       "streaming_movies                    No             Yes                No   \n",
       "paperless_billing                  Yes              No               Yes   \n",
       "monthly_charges                   65.6            59.9              73.9   \n",
       "total_charges                    593.3           542.4            280.85   \n",
       "churn                               No              No               Yes   \n",
       "contract_type                 One year  Month-to-month    Month-to-month   \n",
       "internet_service_type              DSL             DSL       Fiber optic   \n",
       "payment_type              Mailed check    Mailed check  Electronic check   \n",
       "\n",
       "                                         3               4  \n",
       "payment_type_id                          1               2  \n",
       "internet_service_type_id                 2               2  \n",
       "contract_type_id                         1               1  \n",
       "customer_id                     0011-IGKFF      0013-EXCHZ  \n",
       "gender                                Male          Female  \n",
       "senior_citizen                           1               1  \n",
       "partner                                Yes             Yes  \n",
       "dependents                              No              No  \n",
       "tenure                                  13               3  \n",
       "phone_service                          Yes             Yes  \n",
       "multiple_lines                          No              No  \n",
       "online_security                         No              No  \n",
       "online_backup                          Yes              No  \n",
       "device_protection                      Yes              No  \n",
       "tech_support                            No             Yes  \n",
       "streaming_tv                           Yes             Yes  \n",
       "streaming_movies                       Yes              No  \n",
       "paperless_billing                      Yes             Yes  \n",
       "monthly_charges                       98.0            83.9  \n",
       "total_charges                      1237.85           267.4  \n",
       "churn                                  Yes             Yes  \n",
       "contract_type               Month-to-month  Month-to-month  \n",
       "internet_service_type          Fiber optic     Fiber optic  \n",
       "payment_type              Electronic check    Mailed check  "
      ]
     },
     "execution_count": 8,
     "metadata": {},
     "output_type": "execute_result"
    }
   ],
   "source": [
    "df.head().T"
   ]
  },
  {
   "cell_type": "markdown",
   "id": "6369e9b5-5af5-4a1d-9a1b-c9c492bef9a3",
   "metadata": {},
   "source": [
    "### Prepare"
   ]
  },
  {
   "cell_type": "markdown",
   "id": "81747b2c-cd38-4f23-9112-4966e61d629d",
   "metadata": {},
   "source": [
    "Utilized function to drop duplicate columns:  \n",
    "payment_type_id  \n",
    "internet_service_type_id  \n",
    "contract_type_id  \n",
    "\n",
    "Converted total_charges to float\n",
    "Discovered Null (blank space) values in total charges.  \n",
    "Replaced null with 0:\n",
    "Since new customers have not been charged, the amount is 0  "
   ]
  },
  {
   "cell_type": "code",
   "execution_count": 9,
   "id": "1cb4aa11-0977-42b7-bcdc-86b402c24b20",
   "metadata": {},
   "outputs": [],
   "source": [
    "df = prepare.prep_telco(df)"
   ]
  },
  {
   "cell_type": "code",
   "execution_count": 10,
   "id": "9a3bddea-a270-4c64-877a-6e8a829ce489",
   "metadata": {},
   "outputs": [
    {
     "data": {
      "text/plain": [
       "(7043, 48)"
      ]
     },
     "execution_count": 10,
     "metadata": {},
     "output_type": "execute_result"
    }
   ],
   "source": [
    "df.shape"
   ]
  },
  {
   "cell_type": "code",
   "execution_count": 11,
   "id": "bda8652d-b12f-461f-b1f1-704978933e48",
   "metadata": {},
   "outputs": [
    {
     "name": "stdout",
     "output_type": "stream",
     "text": [
      "<class 'pandas.core.frame.DataFrame'>\n",
      "Int64Index: 7043 entries, 0 to 7042\n",
      "Data columns (total 48 columns):\n",
      " #   Column                                 Non-Null Count  Dtype  \n",
      "---  ------                                 --------------  -----  \n",
      " 0   customer_id                            7043 non-null   object \n",
      " 1   gender                                 7043 non-null   object \n",
      " 2   senior_citizen                         7043 non-null   int64  \n",
      " 3   partner                                7043 non-null   object \n",
      " 4   dependents                             7043 non-null   object \n",
      " 5   tenure                                 7043 non-null   int64  \n",
      " 6   phone_service                          7043 non-null   object \n",
      " 7   multiple_lines                         7043 non-null   object \n",
      " 8   online_security                        7043 non-null   object \n",
      " 9   online_backup                          7043 non-null   object \n",
      " 10  device_protection                      7043 non-null   object \n",
      " 11  tech_support                           7043 non-null   object \n",
      " 12  streaming_tv                           7043 non-null   object \n",
      " 13  streaming_movies                       7043 non-null   object \n",
      " 14  paperless_billing                      7043 non-null   object \n",
      " 15  monthly_charges                        7043 non-null   float64\n",
      " 16  total_charges                          7043 non-null   float64\n",
      " 17  churn                                  7043 non-null   object \n",
      " 18  contract_type                          7043 non-null   object \n",
      " 19  internet_service_type                  7043 non-null   object \n",
      " 20  payment_type                           7043 non-null   object \n",
      " 21  gender_Male                            7043 non-null   uint8  \n",
      " 22  partner_Yes                            7043 non-null   uint8  \n",
      " 23  dependents_Yes                         7043 non-null   uint8  \n",
      " 24  phone_service_Yes                      7043 non-null   uint8  \n",
      " 25  multiple_lines_No phone service        7043 non-null   uint8  \n",
      " 26  multiple_lines_Yes                     7043 non-null   uint8  \n",
      " 27  online_security_No internet service    7043 non-null   uint8  \n",
      " 28  online_security_Yes                    7043 non-null   uint8  \n",
      " 29  online_backup_No internet service      7043 non-null   uint8  \n",
      " 30  online_backup_Yes                      7043 non-null   uint8  \n",
      " 31  device_protection_No internet service  7043 non-null   uint8  \n",
      " 32  device_protection_Yes                  7043 non-null   uint8  \n",
      " 33  tech_support_No internet service       7043 non-null   uint8  \n",
      " 34  tech_support_Yes                       7043 non-null   uint8  \n",
      " 35  streaming_tv_No internet service       7043 non-null   uint8  \n",
      " 36  streaming_tv_Yes                       7043 non-null   uint8  \n",
      " 37  streaming_movies_No internet service   7043 non-null   uint8  \n",
      " 38  streaming_movies_Yes                   7043 non-null   uint8  \n",
      " 39  paperless_billing_Yes                  7043 non-null   uint8  \n",
      " 40  churn_Yes                              7043 non-null   uint8  \n",
      " 41  contract_type_One year                 7043 non-null   uint8  \n",
      " 42  contract_type_Two year                 7043 non-null   uint8  \n",
      " 43  internet_service_type_Fiber optic      7043 non-null   uint8  \n",
      " 44  internet_service_type_None             7043 non-null   uint8  \n",
      " 45  payment_type_Credit card (automatic)   7043 non-null   uint8  \n",
      " 46  payment_type_Electronic check          7043 non-null   uint8  \n",
      " 47  payment_type_Mailed check              7043 non-null   uint8  \n",
      "dtypes: float64(2), int64(2), object(17), uint8(27)\n",
      "memory usage: 1.4+ MB\n"
     ]
    }
   ],
   "source": [
    "df.info()"
   ]
  },
  {
   "cell_type": "code",
   "execution_count": 12,
   "id": "99912127-c5df-4646-a588-721850dd523d",
   "metadata": {},
   "outputs": [
    {
     "data": {
      "text/plain": [
       "0.00       11\n",
       "20.20      11\n",
       "19.75       9\n",
       "19.90       8\n",
       "20.05       8\n",
       "           ..\n",
       "2387.75     1\n",
       "6302.80     1\n",
       "2058.50     1\n",
       "829.55      1\n",
       "3707.60     1\n",
       "Name: total_charges, Length: 6531, dtype: int64"
      ]
     },
     "execution_count": 12,
     "metadata": {},
     "output_type": "execute_result"
    }
   ],
   "source": [
    "df.total_charges.value_counts()"
   ]
  },
  {
   "cell_type": "markdown",
   "id": "d7e9a151-4703-4f7a-bd0a-0bd88a247f35",
   "metadata": {},
   "source": [
    "### EDA Process\n",
    "Exploratory Data Analysis"
   ]
  },
  {
   "cell_type": "markdown",
   "id": "0f87aac6-40e7-400a-89b2-f4a0d31c1cc7",
   "metadata": {},
   "source": [
    "**Before** exploring, I will **split my data** set into *train, validate, test* and **ONLY** use *train* for exploration.  \n",
    "I used a function imported from prepare.py file  "
   ]
  },
  {
   "cell_type": "code",
   "execution_count": 21,
   "id": "44089d46-fb4b-4739-baec-94a6d18e4f5c",
   "metadata": {},
   "outputs": [],
   "source": [
    "train, validate, test = prepare.split_function(df, 'churn')"
   ]
  },
  {
   "cell_type": "code",
   "execution_count": 22,
   "id": "6cb56ea0-591d-4d30-8d78-19229b855ac7",
   "metadata": {},
   "outputs": [
    {
     "name": "stdout",
     "output_type": "stream",
     "text": [
      "Train: (4225, 48)\n",
      "Validate: (1409, 48)\n",
      "Test: (1409, 48)\n"
     ]
    }
   ],
   "source": [
    "print(f'Train: {train.shape}')\n",
    "print(f'Validate: {validate.shape}')\n",
    "print(f'Test: {test.shape}')"
   ]
  },
  {
   "cell_type": "code",
   "execution_count": 28,
   "id": "0cd44e73-2c8d-4812-abee-e8ae78f536cc",
   "metadata": {},
   "outputs": [
    {
     "data": {
      "text/html": [
       "<div>\n",
       "<style scoped>\n",
       "    .dataframe tbody tr th:only-of-type {\n",
       "        vertical-align: middle;\n",
       "    }\n",
       "\n",
       "    .dataframe tbody tr th {\n",
       "        vertical-align: top;\n",
       "    }\n",
       "\n",
       "    .dataframe thead th {\n",
       "        text-align: right;\n",
       "    }\n",
       "</style>\n",
       "<table border=\"1\" class=\"dataframe\">\n",
       "  <thead>\n",
       "    <tr style=\"text-align: right;\">\n",
       "      <th></th>\n",
       "      <th>customer_id</th>\n",
       "      <th>gender</th>\n",
       "      <th>senior_citizen</th>\n",
       "      <th>partner</th>\n",
       "      <th>dependents</th>\n",
       "      <th>tenure</th>\n",
       "      <th>phone_service</th>\n",
       "      <th>multiple_lines</th>\n",
       "      <th>online_security</th>\n",
       "      <th>online_backup</th>\n",
       "      <th>...</th>\n",
       "      <th>streaming_movies_Yes</th>\n",
       "      <th>paperless_billing_Yes</th>\n",
       "      <th>churn_Yes</th>\n",
       "      <th>contract_type_One year</th>\n",
       "      <th>contract_type_Two year</th>\n",
       "      <th>internet_service_type_Fiber optic</th>\n",
       "      <th>internet_service_type_None</th>\n",
       "      <th>payment_type_Credit card (automatic)</th>\n",
       "      <th>payment_type_Electronic check</th>\n",
       "      <th>payment_type_Mailed check</th>\n",
       "    </tr>\n",
       "  </thead>\n",
       "  <tbody>\n",
       "    <tr>\n",
       "      <th>5911</th>\n",
       "      <td>8319-QBEHW</td>\n",
       "      <td>Male</td>\n",
       "      <td>0</td>\n",
       "      <td>No</td>\n",
       "      <td>Yes</td>\n",
       "      <td>26</td>\n",
       "      <td>No</td>\n",
       "      <td>No phone service</td>\n",
       "      <td>No</td>\n",
       "      <td>Yes</td>\n",
       "      <td>...</td>\n",
       "      <td>0</td>\n",
       "      <td>1</td>\n",
       "      <td>0</td>\n",
       "      <td>1</td>\n",
       "      <td>0</td>\n",
       "      <td>0</td>\n",
       "      <td>0</td>\n",
       "      <td>0</td>\n",
       "      <td>0</td>\n",
       "      <td>0</td>\n",
       "    </tr>\n",
       "    <tr>\n",
       "      <th>2479</th>\n",
       "      <td>3547-LQRIK</td>\n",
       "      <td>Female</td>\n",
       "      <td>0</td>\n",
       "      <td>Yes</td>\n",
       "      <td>No</td>\n",
       "      <td>47</td>\n",
       "      <td>Yes</td>\n",
       "      <td>Yes</td>\n",
       "      <td>No internet service</td>\n",
       "      <td>No internet service</td>\n",
       "      <td>...</td>\n",
       "      <td>0</td>\n",
       "      <td>0</td>\n",
       "      <td>0</td>\n",
       "      <td>1</td>\n",
       "      <td>0</td>\n",
       "      <td>0</td>\n",
       "      <td>1</td>\n",
       "      <td>0</td>\n",
       "      <td>1</td>\n",
       "      <td>0</td>\n",
       "    </tr>\n",
       "    <tr>\n",
       "      <th>5889</th>\n",
       "      <td>8280-MQRQN</td>\n",
       "      <td>Female</td>\n",
       "      <td>0</td>\n",
       "      <td>No</td>\n",
       "      <td>No</td>\n",
       "      <td>1</td>\n",
       "      <td>Yes</td>\n",
       "      <td>No</td>\n",
       "      <td>No</td>\n",
       "      <td>No</td>\n",
       "      <td>...</td>\n",
       "      <td>0</td>\n",
       "      <td>1</td>\n",
       "      <td>1</td>\n",
       "      <td>0</td>\n",
       "      <td>0</td>\n",
       "      <td>0</td>\n",
       "      <td>0</td>\n",
       "      <td>0</td>\n",
       "      <td>0</td>\n",
       "      <td>1</td>\n",
       "    </tr>\n",
       "    <tr>\n",
       "      <th>6087</th>\n",
       "      <td>8626-PTQGE</td>\n",
       "      <td>Male</td>\n",
       "      <td>0</td>\n",
       "      <td>No</td>\n",
       "      <td>No</td>\n",
       "      <td>69</td>\n",
       "      <td>No</td>\n",
       "      <td>No phone service</td>\n",
       "      <td>Yes</td>\n",
       "      <td>Yes</td>\n",
       "      <td>...</td>\n",
       "      <td>1</td>\n",
       "      <td>1</td>\n",
       "      <td>0</td>\n",
       "      <td>0</td>\n",
       "      <td>1</td>\n",
       "      <td>0</td>\n",
       "      <td>0</td>\n",
       "      <td>0</td>\n",
       "      <td>0</td>\n",
       "      <td>0</td>\n",
       "    </tr>\n",
       "    <tr>\n",
       "      <th>785</th>\n",
       "      <td>1142-IHLOO</td>\n",
       "      <td>Female</td>\n",
       "      <td>0</td>\n",
       "      <td>No</td>\n",
       "      <td>No</td>\n",
       "      <td>51</td>\n",
       "      <td>Yes</td>\n",
       "      <td>No</td>\n",
       "      <td>No</td>\n",
       "      <td>No</td>\n",
       "      <td>...</td>\n",
       "      <td>1</td>\n",
       "      <td>0</td>\n",
       "      <td>0</td>\n",
       "      <td>1</td>\n",
       "      <td>0</td>\n",
       "      <td>1</td>\n",
       "      <td>0</td>\n",
       "      <td>1</td>\n",
       "      <td>0</td>\n",
       "      <td>0</td>\n",
       "    </tr>\n",
       "  </tbody>\n",
       "</table>\n",
       "<p>5 rows × 48 columns</p>\n",
       "</div>"
      ],
      "text/plain": [
       "     customer_id  gender  senior_citizen partner dependents  tenure  \\\n",
       "5911  8319-QBEHW    Male               0      No        Yes      26   \n",
       "2479  3547-LQRIK  Female               0     Yes         No      47   \n",
       "5889  8280-MQRQN  Female               0      No         No       1   \n",
       "6087  8626-PTQGE    Male               0      No         No      69   \n",
       "785   1142-IHLOO  Female               0      No         No      51   \n",
       "\n",
       "     phone_service    multiple_lines      online_security  \\\n",
       "5911            No  No phone service                   No   \n",
       "2479           Yes               Yes  No internet service   \n",
       "5889           Yes                No                   No   \n",
       "6087            No  No phone service                  Yes   \n",
       "785            Yes                No                   No   \n",
       "\n",
       "            online_backup  ... streaming_movies_Yes paperless_billing_Yes  \\\n",
       "5911                  Yes  ...                    0                     1   \n",
       "2479  No internet service  ...                    0                     0   \n",
       "5889                   No  ...                    0                     1   \n",
       "6087                  Yes  ...                    1                     1   \n",
       "785                    No  ...                    1                     0   \n",
       "\n",
       "     churn_Yes contract_type_One year contract_type_Two year  \\\n",
       "5911         0                      1                      0   \n",
       "2479         0                      1                      0   \n",
       "5889         1                      0                      0   \n",
       "6087         0                      0                      1   \n",
       "785          0                      1                      0   \n",
       "\n",
       "      internet_service_type_Fiber optic  internet_service_type_None  \\\n",
       "5911                                  0                           0   \n",
       "2479                                  0                           1   \n",
       "5889                                  0                           0   \n",
       "6087                                  0                           0   \n",
       "785                                   1                           0   \n",
       "\n",
       "     payment_type_Credit card (automatic) payment_type_Electronic check  \\\n",
       "5911                                    0                             0   \n",
       "2479                                    0                             1   \n",
       "5889                                    0                             0   \n",
       "6087                                    0                             0   \n",
       "785                                     1                             0   \n",
       "\n",
       "     payment_type_Mailed check  \n",
       "5911                         0  \n",
       "2479                         0  \n",
       "5889                         1  \n",
       "6087                         0  \n",
       "785                          0  \n",
       "\n",
       "[5 rows x 48 columns]"
      ]
     },
     "execution_count": 28,
     "metadata": {},
     "output_type": "execute_result"
    }
   ],
   "source": [
    "train.head()"
   ]
  },
  {
   "cell_type": "code",
   "execution_count": null,
   "id": "28f9f165-eb55-4de7-9946-36c07dd3bd15",
   "metadata": {},
   "outputs": [],
   "source": []
  },
  {
   "cell_type": "markdown",
   "id": "4e18ed0f-0856-461b-930a-084124870ff1",
   "metadata": {},
   "source": [
    "#### Question 1"
   ]
  },
  {
   "cell_type": "markdown",
   "id": "94c92f23-e820-4646-8255-c283381e657b",
   "metadata": {},
   "source": [
    "**Do monthly charges effect customer churn?**\n",
    "\n",
    "Monthly charges = Continuous  \n",
    "Churn           = Categorical  \n",
    "\n",
    "1 sample 1 tail ttest"
   ]
  },
  {
   "cell_type": "markdown",
   "id": "7aed3966-0aa9-4cb3-98cf-dce29a586af5",
   "metadata": {},
   "source": [
    "$H_0$: Mean of monthly charges of churned customers <= Mean of monthly charges of all customers  \n",
    "$H_a$: Mean of monthly charges of churned customers > Mean of monthly charges of all customers  "
   ]
  },
  {
   "cell_type": "code",
   "execution_count": 43,
   "id": "61a03a60-9ae5-4bb1-a3c3-dec44d5e41bb",
   "metadata": {},
   "outputs": [],
   "source": [
    "alpha = 0.05"
   ]
  },
  {
   "cell_type": "code",
   "execution_count": 42,
   "id": "10e03cd2-eea1-4557-8344-aaaac8db4000",
   "metadata": {},
   "outputs": [
    {
     "data": {
      "text/plain": [
       "No     3104\n",
       "Yes    1121\n",
       "Name: churn, dtype: int64"
      ]
     },
     "execution_count": 42,
     "metadata": {},
     "output_type": "execute_result"
    }
   ],
   "source": [
    "# displaying amount of customers who have and have not churned\n",
    "train.churn.value_counts()"
   ]
  },
  {
   "cell_type": "code",
   "execution_count": 50,
   "id": "a2c57702-2431-407b-bf93-0d45396f8c77",
   "metadata": {},
   "outputs": [
    {
     "data": {
      "image/png": "[encoded data removed]",
      "text/plain": [
       "<Figure size 640x480 with 1 Axes>"
      ]
     },
     "metadata": {},
     "output_type": "display_data"
    }
   ],
   "source": [
    "# showing distribution of customers who have churned based on monthly charges\n",
    "plt.hist(no_churn.monthly_charges, label='Not Churned')\n",
    "plt.hist(churned.monthly_charges, label='Churned')\n",
    "plt.legend()\n",
    "plt.show()"
   ]
  },
  {
   "cell_type": "code",
   "execution_count": 33,
   "id": "30ffa8f1-e531-4725-af8f-e0faa151f3a8",
   "metadata": {},
   "outputs": [],
   "source": [
    "no_churn = train[train.churn == 'No']"
   ]
  },
  {
   "cell_type": "code",
   "execution_count": 34,
   "id": "debcc790-9ddf-451b-9307-f443d65e378e",
   "metadata": {},
   "outputs": [],
   "source": [
    "# isolating churned customers for ttest\n",
    "churned = train[train.churn == 'Yes']"
   ]
  },
  {
   "cell_type": "code",
   "execution_count": 45,
   "id": "78918684-a3f5-46da-9b9c-1eb96cb9ad95",
   "metadata": {},
   "outputs": [],
   "source": [
    "# calculating mean monthly charges for ttest\n",
    "overall_mean = train.monthly_charges.mean()"
   ]
  },
  {
   "cell_type": "code",
   "execution_count": 47,
   "id": "3f41d464-6f07-4f50-812f-fa5dc842ef8c",
   "metadata": {},
   "outputs": [
    {
     "name": "stdout",
     "output_type": "stream",
     "text": [
      "12.65294490503547 1.0740986591134452e-34 0.05\n"
     ]
    }
   ],
   "source": [
    "# initiating ttest\n",
    "t, p = stats.ttest_1samp(churned.monthly_charges, overall_mean)\n",
    "\n",
    "print(t, p/2, alpha)"
   ]
  },
  {
   "cell_type": "code",
   "execution_count": 48,
   "id": "453b21e9-678d-4302-8fb2-c82bb0f7014a",
   "metadata": {},
   "outputs": [
    {
     "name": "stdout",
     "output_type": "stream",
     "text": [
      "We reject the hypothesis\n"
     ]
    }
   ],
   "source": [
    "# printing test outcome results\n",
    "if p/2 > alpha:\n",
    "    print('We fail to reject the hypothesis')\n",
    "elif t < 0:\n",
    "    print('We fail to reject the hypothesis')\n",
    "else:\n",
    "    print('We reject the hypothesis')"
   ]
  },
  {
   "cell_type": "markdown",
   "id": "30745c9c-1f04-46fe-a338-e51e4b73295a",
   "metadata": {},
   "source": [
    "**Takeaway:**  \n",
    "Based on our 1 sample t-test, we can infer that monthly charges of churned customers are higher than the mean of all customers."
   ]
  },
  {
   "cell_type": "markdown",
   "id": "c291d784-3d99-46ee-a9d9-27811d67dfcc",
   "metadata": {},
   "source": [
    "#### Question 2"
   ]
  },
  {
   "cell_type": "markdown",
   "id": "c3607726-5730-4937-9ec1-f74f12c5ba0f",
   "metadata": {},
   "source": [
    "**Does internet service type effect customer churn?**  \n",
    "Internet service type = categorical  \n",
    "Churn = categorical  \n",
    "\n",
    "$Chi^2$ test"
   ]
  },
  {
   "cell_type": "markdown",
   "id": "ffcf7adb-e261-4b4e-8971-4f42c8b11622",
   "metadata": {},
   "source": [
    "$H_0$: Customer Churn is independent of Internet service type  \n",
    "$H_a$: Customer Churn is dependent on Internet service"
   ]
  },
  {
   "cell_type": "code",
   "execution_count": 52,
   "id": "37abae52-25f9-4a2b-a834-1ea09ca018cf",
   "metadata": {},
   "outputs": [
    {
     "data": {
      "text/plain": [
       "Fiber optic    1855\n",
       "DSL            1447\n",
       "None            923\n",
       "Name: internet_service_type, dtype: int64"
      ]
     },
     "execution_count": 52,
     "metadata": {},
     "output_type": "execute_result"
    }
   ],
   "source": [
    "train.internet_service_type.value_counts()"
   ]
  },
  {
   "cell_type": "code",
   "execution_count": 54,
   "id": "0f5f8de0-4389-4214-b679-9fd655ed19a4",
   "metadata": {},
   "outputs": [
    {
     "data": {
      "text/html": [
       "<div>\n",
       "<style scoped>\n",
       "    .dataframe tbody tr th:only-of-type {\n",
       "        vertical-align: middle;\n",
       "    }\n",
       "\n",
       "    .dataframe tbody tr th {\n",
       "        vertical-align: top;\n",
       "    }\n",
       "\n",
       "    .dataframe thead th {\n",
       "        text-align: right;\n",
       "    }\n",
       "</style>\n",
       "<table border=\"1\" class=\"dataframe\">\n",
       "  <thead>\n",
       "    <tr style=\"text-align: right;\">\n",
       "      <th>churn</th>\n",
       "      <th>No</th>\n",
       "      <th>Yes</th>\n",
       "    </tr>\n",
       "    <tr>\n",
       "      <th>internet_service_type</th>\n",
       "      <th></th>\n",
       "      <th></th>\n",
       "    </tr>\n",
       "  </thead>\n",
       "  <tbody>\n",
       "    <tr>\n",
       "      <th>DSL</th>\n",
       "      <td>1173</td>\n",
       "      <td>274</td>\n",
       "    </tr>\n",
       "    <tr>\n",
       "      <th>Fiber optic</th>\n",
       "      <td>1082</td>\n",
       "      <td>773</td>\n",
       "    </tr>\n",
       "    <tr>\n",
       "      <th>None</th>\n",
       "      <td>849</td>\n",
       "      <td>74</td>\n",
       "    </tr>\n",
       "  </tbody>\n",
       "</table>\n",
       "</div>"
      ],
      "text/plain": [
       "churn                    No  Yes\n",
       "internet_service_type           \n",
       "DSL                    1173  274\n",
       "Fiber optic            1082  773\n",
       "None                    849   74"
      ]
     },
     "execution_count": 54,
     "metadata": {},
     "output_type": "execute_result"
    }
   ],
   "source": [
    "observed = pd.crosstab(train.internet_service_type, train.churn)\n",
    "observed"
   ]
  },
  {
   "cell_type": "code",
   "execution_count": 84,
   "id": "d7f8d36e-23b4-4f22-a05c-4acd4237f455",
   "metadata": {},
   "outputs": [
    {
     "data": {
      "image/png": "[encoded data removed]",
      "text/plain": [
       "<Figure size 600x600 with 2 Axes>"
      ]
     },
     "metadata": {},
     "output_type": "display_data"
    }
   ],
   "source": [
    "observed.plot.bar(subplots=True, figsize=(6, 6), legend=False)\n",
    "plt.show()"
   ]
  },
  {
   "cell_type": "code",
   "execution_count": 98,
   "id": "b4111fa4-7ac9-46ca-a2fa-83aae902739c",
   "metadata": {},
   "outputs": [
    {
     "data": {
      "text/plain": [
       "<AxesSubplot:>"
      ]
     },
     "execution_count": 98,
     "metadata": {},
     "output_type": "execute_result"
    },
    {
     "data": {
      "image/png": "[encoded data removed]",
      "text/plain": [
       "<Figure size 640x480 with 1 Axes>"
      ]
     },
     "metadata": {},
     "output_type": "display_data"
    }
   ],
   "source": [
    "churned.internet_service_type.hist()"
   ]
  },
  {
   "cell_type": "code",
   "execution_count": 99,
   "id": "b40dd4fc-6308-467c-9d29-fcf5c268dde8",
   "metadata": {},
   "outputs": [
    {
     "data": {
      "text/plain": [
       "<AxesSubplot:>"
      ]
     },
     "execution_count": 99,
     "metadata": {},
     "output_type": "execute_result"
    },
    {
     "data": {
      "image/png": "[encoded data removed]",
      "text/plain": [
       "<Figure size 640x480 with 1 Axes>"
      ]
     },
     "metadata": {},
     "output_type": "display_data"
    }
   ],
   "source": [
    "no_churn.internet_service_type.hist()"
   ]
  },
  {
   "cell_type": "code",
   "execution_count": 55,
   "id": "8ec57c5b-f23f-4d9b-b1e2-f206cb4b4edd",
   "metadata": {},
   "outputs": [],
   "source": [
    "chi2, p, degf, expected = stats.chi2_contingency(observed)"
   ]
  },
  {
   "cell_type": "code",
   "execution_count": 56,
   "id": "36e1a51d-0243-4566-be9d-aab00a434657",
   "metadata": {},
   "outputs": [
    {
     "name": "stdout",
     "output_type": "stream",
     "text": [
      "Observed Values\n",
      "\n",
      "[[1173  274]\n",
      " [1082  773]\n",
      " [ 849   74]]\n",
      "---\n",
      "Expected Values\n",
      "\n",
      "[[1063  383]\n",
      " [1362  492]\n",
      " [ 678  244]]\n",
      "---\n",
      "\n",
      "chi^2 = 423.2590\n",
      "p.    = 0.0000\n"
     ]
    }
   ],
   "source": [
    "# print 'Observed Values' followed by a new line\n",
    "print('Observed Values\\n')\n",
    "\n",
    "# print the values from the 'observed dataframe'\n",
    "print(observed.values)\n",
    "\n",
    "# print --- and then a new line, 'Expected Values', followed by a new line\n",
    "print('---\\nExpected Values\\n')\n",
    "\n",
    "# print the expected values\n",
    "print(expected.astype(int))\n",
    "\n",
    "# print a new line\n",
    "print('---\\n')\n",
    "\n",
    "# print the chi2 value, formatted to a float with 4 digits\n",
    "print(f'chi^2 = {chi2:.4f}')\n",
    "\n",
    "# print the p-value, formatted to a float with 4 digits\n",
    "print(f'p.    = {p:.4f}')"
   ]
  },
  {
   "cell_type": "code",
   "execution_count": 58,
   "id": "1979714c-23bf-4ed0-af99-02deafa60116",
   "metadata": {},
   "outputs": [
    {
     "name": "stdout",
     "output_type": "stream",
     "text": [
      "We reject the null hypothesis\n"
     ]
    }
   ],
   "source": [
    "if p > alpha:\n",
    "    print('We fail to reject the null hypothesis')\n",
    "else:\n",
    "    print('We reject the null hypothesis')"
   ]
  },
  {
   "cell_type": "markdown",
   "id": "4f8e1d54-7045-42b2-9d1b-55b06369a62c",
   "metadata": {},
   "source": [
    "**Takeaway:**  \n",
    "Internet service type does effect customer churn"
   ]
  },
  {
   "cell_type": "markdown",
   "id": "602d0f0f-db54-46c1-9982-e832e77a964c",
   "metadata": {},
   "source": [
    "#### Question 3"
   ]
  },
  {
   "cell_type": "markdown",
   "id": "2b889b8d-f206-40f0-b1b1-509b037af2f3",
   "metadata": {},
   "source": [
    "**Does tenure effect customer churn?**  \n",
    "Tenure = Continuous  \n",
    "Churn = Categorical"
   ]
  },
  {
   "cell_type": "markdown",
   "id": "83273eba-920f-4ce8-866b-7eb0a2e88d69",
   "metadata": {},
   "source": [
    "$H_0$: Mean tenure of churned customers == Mean tenure of active customers  \n",
    "$H_a$: Mean tenure of churned customers != Mean tenure of active customers  "
   ]
  },
  {
   "cell_type": "code",
   "execution_count": null,
   "id": "e8c838d2-cf6b-4f0e-bbfb-2c60fe6299e6",
   "metadata": {},
   "outputs": [],
   "source": []
  },
  {
   "cell_type": "code",
   "execution_count": 71,
   "id": "62a888b5-a35b-4eca-b2f6-0db0349731a7",
   "metadata": {},
   "outputs": [
    {
     "data": {
      "text/plain": [
       "No     3104\n",
       "Yes    1121\n",
       "Name: churn, dtype: int64"
      ]
     },
     "execution_count": 71,
     "metadata": {},
     "output_type": "execute_result"
    }
   ],
   "source": [
    "train.churn.value_counts()"
   ]
  },
  {
   "cell_type": "code",
   "execution_count": 69,
   "id": "ebfe6d4c-814e-4145-8259-ca2046bdf306",
   "metadata": {},
   "outputs": [
    {
     "data": {
      "image/png": "[encoded data removed]",
      "text/plain": [
       "<Figure size 640x480 with 1 Axes>"
      ]
     },
     "metadata": {},
     "output_type": "display_data"
    }
   ],
   "source": [
    "sns.barplot(data=train, x='churn', y='tenure')\n",
    "plt.show()"
   ]
  },
  {
   "cell_type": "code",
   "execution_count": 73,
   "id": "4c1513d3-cc83-4491-a8b0-49717464ab22",
   "metadata": {},
   "outputs": [
    {
     "data": {
      "text/plain": [
       "(1121, 48)"
      ]
     },
     "execution_count": 73,
     "metadata": {},
     "output_type": "execute_result"
    }
   ],
   "source": [
    "# isolating churned customers for ttest\n",
    "churned = train[train.churn == 'Yes']\n",
    "churned.shape"
   ]
  },
  {
   "cell_type": "code",
   "execution_count": 74,
   "id": "03bc9272-b17c-4fd5-adef-7b2be3b0d674",
   "metadata": {},
   "outputs": [],
   "source": [
    "alpha = 0.05"
   ]
  },
  {
   "cell_type": "code",
   "execution_count": 75,
   "id": "b67f1307-77ee-4e91-ab6d-afe0d16c8ec1",
   "metadata": {},
   "outputs": [
    {
     "data": {
      "text/plain": [
       "(3104, 48)"
      ]
     },
     "execution_count": 75,
     "metadata": {},
     "output_type": "execute_result"
    }
   ],
   "source": [
    "no_churn.shape"
   ]
  },
  {
   "cell_type": "code",
   "execution_count": 100,
   "id": "66c8205d-483e-42bf-b445-7206004e1663",
   "metadata": {},
   "outputs": [
    {
     "data": {
      "text/plain": [
       "18.28278322925959"
      ]
     },
     "execution_count": 100,
     "metadata": {},
     "output_type": "execute_result"
    }
   ],
   "source": [
    "churned.tenure.mean()"
   ]
  },
  {
   "cell_type": "code",
   "execution_count": 101,
   "id": "28428d57-4f2d-4611-8226-320d915a3773",
   "metadata": {},
   "outputs": [
    {
     "data": {
      "text/plain": [
       "37.63563144329897"
      ]
     },
     "execution_count": 101,
     "metadata": {},
     "output_type": "execute_result"
    }
   ],
   "source": [
    "no_churn.tenure.mean()"
   ]
  },
  {
   "cell_type": "code",
   "execution_count": 79,
   "id": "28d9afd8-984e-4be1-be81-67d013ee0462",
   "metadata": {},
   "outputs": [
    {
     "data": {
      "text/plain": [
       "(384.3762122467161, 581.1295195495867)"
      ]
     },
     "execution_count": 79,
     "metadata": {},
     "output_type": "execute_result"
    }
   ],
   "source": [
    "churned.tenure.var(), no_churn.tenure.var()"
   ]
  },
  {
   "cell_type": "code",
   "execution_count": 80,
   "id": "f003a8fa-1039-4481-be41-e639ecf10cb6",
   "metadata": {},
   "outputs": [
    {
     "data": {
      "text/plain": [
       "(239.792666591809, 1.1927270969927419e-52)"
      ]
     },
     "execution_count": 80,
     "metadata": {},
     "output_type": "execute_result"
    }
   ],
   "source": [
    "stat, pval = stats.levene(churned.tenure, no_churn.tenure)\n",
    "stat, pval"
   ]
  },
  {
   "cell_type": "code",
   "execution_count": 81,
   "id": "de0016b6-2152-4ba4-b880-a69700d18572",
   "metadata": {},
   "outputs": [
    {
     "data": {
      "text/plain": [
       "(-26.580512011299394, 8.804788934588686e-137)"
      ]
     },
     "execution_count": 81,
     "metadata": {},
     "output_type": "execute_result"
    }
   ],
   "source": [
    "t, p = stats.ttest_ind(churned.tenure, no_churn.tenure, equal_var=False)\n",
    "t, p "
   ]
  },
  {
   "cell_type": "code",
   "execution_count": 82,
   "id": "6d29af35-ae9c-4fe6-9733-ba20cfe7a9d3",
   "metadata": {},
   "outputs": [
    {
     "name": "stdout",
     "output_type": "stream",
     "text": [
      "We reject the null hypothesis\n"
     ]
    }
   ],
   "source": [
    "if p > alpha:\n",
    "    print('We fail to reject the null hypothesis')\n",
    "else:\n",
    "    print('We reject the null hypothesis')"
   ]
  },
  {
   "cell_type": "markdown",
   "id": "30dbb37c-4440-44a9-838c-789356a5023e",
   "metadata": {},
   "source": [
    "**Takeaway:**  \n",
    "We can infer that the mean tenure of active customers is higher than the mean tenure of customers who churn.  \n",
    "Lifetime value of churned customers is half that of active customers"
   ]
  },
  {
   "cell_type": "markdown",
   "id": "cd250c3d-f0fa-4777-b3e5-ef8af87a3ca0",
   "metadata": {},
   "source": [
    "#### Question 4"
   ]
  },
  {
   "cell_type": "markdown",
   "id": "b1960e0e-f1e1-47d9-8dd9-5eb1da4d4148",
   "metadata": {},
   "source": [
    "**Does contract type effect customer churn?**  \n",
    "Contract type == categorical  \n",
    "churn == categorical\n",
    "\n",
    "$Chi^2$ test  "
   ]
  },
  {
   "cell_type": "markdown",
   "id": "4da3235f-0e43-4992-a918-5918d9145e37",
   "metadata": {},
   "source": [
    "$H_0$: Customer Churn is independent of contract type  \n",
    "$H_a$: Customer Churn is dependent on contract type"
   ]
  },
  {
   "cell_type": "code",
   "execution_count": 104,
   "id": "218b2e9e-a7e1-4905-aa52-5819b714fd2e",
   "metadata": {},
   "outputs": [
    {
     "data": {
      "text/plain": [
       "Month-to-month    2317\n",
       "Two year           995\n",
       "One year           913\n",
       "Name: contract_type, dtype: int64"
      ]
     },
     "execution_count": 104,
     "metadata": {},
     "output_type": "execute_result"
    }
   ],
   "source": [
    "train.contract_type.value_counts()"
   ]
  },
  {
   "cell_type": "code",
   "execution_count": 129,
   "id": "93d1a557-1b1d-48cb-a791-2a09ccca35a0",
   "metadata": {},
   "outputs": [
    {
     "data": {
      "image/png": "[encoded data removed]",
      "text/plain": [
       "<Figure size 572.125x500 with 1 Axes>"
      ]
     },
     "metadata": {},
     "output_type": "display_data"
    }
   ],
   "source": [
    "sns.displot(data=train, x='contract_type', hue='churn')\n",
    "plt.show()"
   ]
  },
  {
   "cell_type": "code",
   "execution_count": 122,
   "id": "eff9e83a-1658-4b0b-ae59-a53bcdadb294",
   "metadata": {},
   "outputs": [],
   "source": [
    "alpha = 0.05"
   ]
  },
  {
   "cell_type": "code",
   "execution_count": 124,
   "id": "e7de9548-e766-45d7-bb58-b2c3d56c2e3a",
   "metadata": {},
   "outputs": [
    {
     "data": {
      "text/html": [
       "<div>\n",
       "<style scoped>\n",
       "    .dataframe tbody tr th:only-of-type {\n",
       "        vertical-align: middle;\n",
       "    }\n",
       "\n",
       "    .dataframe tbody tr th {\n",
       "        vertical-align: top;\n",
       "    }\n",
       "\n",
       "    .dataframe thead th {\n",
       "        text-align: right;\n",
       "    }\n",
       "</style>\n",
       "<table border=\"1\" class=\"dataframe\">\n",
       "  <thead>\n",
       "    <tr style=\"text-align: right;\">\n",
       "      <th>churn</th>\n",
       "      <th>No</th>\n",
       "      <th>Yes</th>\n",
       "    </tr>\n",
       "    <tr>\n",
       "      <th>contract_type</th>\n",
       "      <th></th>\n",
       "      <th></th>\n",
       "    </tr>\n",
       "  </thead>\n",
       "  <tbody>\n",
       "    <tr>\n",
       "      <th>Month-to-month</th>\n",
       "      <td>1327</td>\n",
       "      <td>990</td>\n",
       "    </tr>\n",
       "    <tr>\n",
       "      <th>One year</th>\n",
       "      <td>815</td>\n",
       "      <td>98</td>\n",
       "    </tr>\n",
       "    <tr>\n",
       "      <th>Two year</th>\n",
       "      <td>962</td>\n",
       "      <td>33</td>\n",
       "    </tr>\n",
       "  </tbody>\n",
       "</table>\n",
       "</div>"
      ],
      "text/plain": [
       "churn             No  Yes\n",
       "contract_type            \n",
       "Month-to-month  1327  990\n",
       "One year         815   98\n",
       "Two year         962   33"
      ]
     },
     "execution_count": 124,
     "metadata": {},
     "output_type": "execute_result"
    }
   ],
   "source": [
    "observed = pd.crosstab(train.contract_type, train.churn)\n",
    "observed"
   ]
  },
  {
   "cell_type": "code",
   "execution_count": 125,
   "id": "c1599345-9a3f-4b7a-af62-1e24af6f69d2",
   "metadata": {},
   "outputs": [],
   "source": [
    "chi2, p, degf, expected = stats.chi2_contingency(observed)"
   ]
  },
  {
   "cell_type": "code",
   "execution_count": 126,
   "id": "be302af6-685e-4256-aa28-13dc44525bfe",
   "metadata": {},
   "outputs": [
    {
     "name": "stdout",
     "output_type": "stream",
     "text": [
      "Observed Values\n",
      "\n",
      "[[1327  990]\n",
      " [ 815   98]\n",
      " [ 962   33]]\n",
      "---\n",
      "Expected Values\n",
      "\n",
      "[[1702  614]\n",
      " [ 670  242]\n",
      " [ 731  263]]\n",
      "---\n",
      "\n",
      "chi^2 = 703.7871\n",
      "p.    = 0.0000\n"
     ]
    }
   ],
   "source": [
    "# print 'Observed Values' followed by a new line\n",
    "print('Observed Values\\n')\n",
    "\n",
    "# print the values from the 'observed dataframe'\n",
    "print(observed.values)\n",
    "\n",
    "# print --- and then a new line, 'Expected Values', followed by a new line\n",
    "print('---\\nExpected Values\\n')\n",
    "\n",
    "# print the expected values\n",
    "print(expected.astype(int))\n",
    "\n",
    "# print a new line\n",
    "print('---\\n')\n",
    "\n",
    "# print the chi2 value, formatted to a float with 4 digits\n",
    "print(f'chi^2 = {chi2:.4f}')\n",
    "\n",
    "# print the p-value, formatted to a float with 4 digits\n",
    "print(f'p.    = {p:.4f}')"
   ]
  },
  {
   "cell_type": "code",
   "execution_count": 127,
   "id": "c79e83c7-16aa-4b35-a6b9-f8de4ddfec97",
   "metadata": {},
   "outputs": [
    {
     "name": "stdout",
     "output_type": "stream",
     "text": [
      "We reject the null hypothesis\n"
     ]
    }
   ],
   "source": [
    "if p > alpha:\n",
    "    print('We fail to reject the null hypothesis')\n",
    "else:\n",
    "    print('We reject the null hypothesis')"
   ]
  },
  {
   "cell_type": "code",
   "execution_count": 145,
   "id": "5445920b-6fc8-4a50-9224-cdae336977d6",
   "metadata": {},
   "outputs": [
    {
     "data": {
      "text/plain": [
       "Month-to-month    990\n",
       "One year           98\n",
       "Two year           33\n",
       "Name: contract_type, dtype: int64"
      ]
     },
     "execution_count": 145,
     "metadata": {},
     "output_type": "execute_result"
    }
   ],
   "source": [
    "train[train.churn == 'Yes'].contract_type.value_counts()"
   ]
  },
  {
   "cell_type": "code",
   "execution_count": 146,
   "id": "cd5b7089-bc6d-414a-a532-8c8d6d6ef0a0",
   "metadata": {},
   "outputs": [
    {
     "data": {
      "text/plain": [
       "0.8831400535236396"
      ]
     },
     "execution_count": 146,
     "metadata": {},
     "output_type": "execute_result"
    }
   ],
   "source": [
    "990 / (990+98+33)"
   ]
  },
  {
   "cell_type": "markdown",
   "id": "6a0a0273-8022-45a4-b4bf-542f0fbff559",
   "metadata": {},
   "source": [
    "**Takeaway:**  \n",
    "Contract type does play a role in customer churn.  \n",
    "Month-to-month is the bulk of all contracts.  \n",
    "Month-to-month is 88% of contracts for customers who churn.  "
   ]
  },
  {
   "cell_type": "markdown",
   "id": "0104aa34-d48c-4034-a0e5-1a172a4a97dd",
   "metadata": {},
   "source": [
    "### EDA Summary"
   ]
  },
  {
   "cell_type": "markdown",
   "id": "2bea2be5-4110-4afb-b014-fcba5d1d7cc4",
   "metadata": {},
   "source": [
    "**I answered 4 primary questions during the EDA phase of this project:**  \n",
    "\n",
    "1. ***Does monthly charges effect customer churn?***  \n",
    "2. ***Does internet service type effect customer churn?***  \n",
    "3. ***Does tenure effect customer churn?***  \n",
    "4. ***Does contract type effect customer churn?***  \n",
    "\n",
    "The outcome for all 4 questions is **Yes**.  \n",
    "I will be using all 4 features in the modeling phase.  \n",
    "I was not surprised by the outcomes, I expected all 4 to play a role in customer churn. I wanted to test each to verify.  "
   ]
  },
  {
   "cell_type": "markdown",
   "id": "bdd4a35b-9e7a-4df6-8328-05964d56f69a",
   "metadata": {},
   "source": [
    "### Modeling"
   ]
  },
  {
   "cell_type": "code",
   "execution_count": null,
   "id": "8643a81d-bef1-4f8c-9b67-980cfc0a7674",
   "metadata": {},
   "outputs": [],
   "source": []
  },
  {
   "cell_type": "code",
   "execution_count": null,
   "id": "bf02fc81-653f-4624-a40b-13f1ed790b64",
   "metadata": {},
   "outputs": [],
   "source": []
  },
  {
   "cell_type": "code",
   "execution_count": null,
   "id": "ddb8e39e-1fd1-42d1-8444-5afedd8313e6",
   "metadata": {},
   "outputs": [],
   "source": []
  },
  {
   "cell_type": "code",
   "execution_count": null,
   "id": "caeca391-39e6-49be-b747-3706ae948a51",
   "metadata": {},
   "outputs": [],
   "source": []
  }
 ],
 "metadata": {
  "kernelspec": {
   "display_name": "Python 3 (ipykernel)",
   "language": "python",
   "name": "python3"
  },
  "language_info": {
   "codemirror_mode": {
    "name": "ipython",
    "version": 3
   },
   "file_extension": ".py",
   "mimetype": "text/x-python",
   "name": "python",
   "nbconvert_exporter": "python",
   "pygments_lexer": "ipython3",
   "version": "3.9.13"
  }
 },
 "nbformat": 4,
 "nbformat_minor": 5
}
